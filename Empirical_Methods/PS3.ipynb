{
 "cells": [
  {
   "cell_type": "code",
   "execution_count": 267,
   "metadata": {},
   "outputs": [],
   "source": [
    "import numpy as np\n",
    "import pandas as pd\n",
    "import matplotlib.pyplot as plt\n",
    "import seaborn as sns\n",
    "import math\n",
    "from scipy.optimize import fmin\n",
    "from statsmodels.tsa.arima_model import ARMA"
   ]
  },
  {
   "cell_type": "code",
   "execution_count": 2,
   "metadata": {},
   "outputs": [],
   "source": [
    "np.random.seed(1)"
   ]
  },
  {
   "cell_type": "code",
   "execution_count": 3,
   "metadata": {},
   "outputs": [],
   "source": [
    "def ARMA(AR_param=[], MA_param=[], nsample=100, burnin=0, paths=1):\n",
    "    AR_param = np.asarray(AR_param).reshape(-1, 1)\n",
    "    rev_AR_param = AR_param[::-1]\n",
    "    MA_param = np.asarray(MA_param).reshape(-1, 1)\n",
    "    rev_MA_param = MA_param[::-1]\n",
    "    p = len(AR_param)\n",
    "    q = len(MA_param)\n",
    "    max_order = max(p,q)\n",
    "    \n",
    "    ncol = max_order + burnin + nsample\n",
    "    nrow = paths\n",
    "    x_array = np.zeros((nrow, ncol))\n",
    "    e_array = np.random.normal(loc=0.0, scale=1.0, size=(nrow, ncol))\n",
    "    \n",
    "    for i in range(max_order, ncol):\n",
    "        x_array[:, i] = (x_array[:, i-p:i] @ rev_AR_param).flatten() + e_array[:, i]\\\n",
    "                        + (e_array[:, i-q:i] @ rev_MA_param).flatten()\n",
    "        \n",
    "    return x_array[:, max_order+burnin:].T"
   ]
  },
  {
   "cell_type": "code",
   "execution_count": 4,
   "metadata": {},
   "outputs": [],
   "source": [
    "def simple_ols(y, X):\n",
    "    y = np.asarray(y).reshape(-1,1)\n",
    "    X = np.asarray(X).reshape(-1,1) if len(X.shape) == 1 else np.asarray(X)\n",
    "    n = X.shape[0]\n",
    "    beta = np.linalg.inv(X.T@X)@(X.T@y)\n",
    "    y_fitted = X@beta\n",
    "    e = np.reshape((y - y_fitted), (-1, 1))\n",
    "    results = {\"y\": y,\n",
    "               \"X\": X,\n",
    "               \"Fitted y\": y_fitted,\n",
    "               \"Residuals\": e,\n",
    "               \"Beta\": beta}\n",
    "    return results"
   ]
  },
  {
   "cell_type": "code",
   "execution_count": 5,
   "metadata": {},
   "outputs": [],
   "source": [
    "def ACF(data, nlags):\n",
    "    ACF_list = []\n",
    "    for lag in range(nlags+1):\n",
    "        data_lag = data.shift(periods=lag)\n",
    "        mean = np.sum(data_lag[lag:])/(data_lag.shape[0]-lag)\n",
    "        xt_demean = data - mean\n",
    "        xt_lag_demean = data_lag - mean\n",
    "        nom = np.sum(xt_demean*xt_lag_demean)\n",
    "        denom = np.sum(xt_demean**2)\n",
    "        ACF = nom/denom\n",
    "        ACF_list.append(ACF)\n",
    "    return np.asarray(ACF_list)"
   ]
  },
  {
   "cell_type": "code",
   "execution_count": 80,
   "metadata": {},
   "outputs": [],
   "source": [
    "def avg_ACF(ols_list, nlags, navg):\n",
    "    subset_ols = ols_list[:navg]\n",
    "    sum_ACF = np.zeros(nlags+1)\n",
    "    for ols in subset_ols:\n",
    "        q1_AR1_residuals = pd.Series(ols[\"Residuals\"].flatten())\n",
    "        q1_AR1_ACF = ACF(q1_AR1_residuals, nlags=10)\n",
    "        sum_ACF += q1_AR1_ACF\n",
    "    avg_ACF = sum_ACF/len(subset_ols)\n",
    "    return avg_ACF"
   ]
  },
  {
   "cell_type": "code",
   "execution_count": 6,
   "metadata": {},
   "outputs": [],
   "source": [
    "def plot_ACF(ACF_result, nlags):\n",
    "    x = np.arange(0, nlags+1)\n",
    "    fig, ax = plt.subplots()\n",
    "    ax.bar(x, ACF_result)\n",
    "    ax.set_xlabel(\"Number of Lags\")\n",
    "    ax.set_ylabel(\"ACF\")"
   ]
  },
  {
   "cell_type": "code",
   "execution_count": 123,
   "metadata": {},
   "outputs": [],
   "source": [
    "def AR_p_OLS(ARMA_result, p):\n",
    "    ols_result_list = []\n",
    "    for i in range(ARMA_result.shape[1]):\n",
    "        x = pd.Series(ARMA_result[:, i])\n",
    "        df_X = x\n",
    "        for j in range(1, p+1):\n",
    "            x_lag_j = x.shift(periods=j)\n",
    "            df_X = pd.concat([df_X, x_lag_j], axis=1)\n",
    "        df_X = df_X.dropna()\n",
    "        df_X_nolag = df_X.iloc[:,0]\n",
    "        df_X_plags = df_X.iloc[:,1:p+1]\n",
    "        ols_i_result = simple_ols(df_X_nolag, df_X_plags)\n",
    "        ols_result_list.append(ols_i_result)\n",
    "    return ols_result_list"
   ]
  },
  {
   "cell_type": "code",
   "execution_count": 83,
   "metadata": {},
   "outputs": [],
   "source": [
    "def IV_AR1(ARMA_result):\n",
    "    beta_hat_list = []\n",
    "    for i in range(q1_ARMA11.shape[1]):\n",
    "        xt = q1_ARMA11[:, i]\n",
    "        X = xt[1:-1].reshape(-1,1)\n",
    "        Z = xt[:-2].reshape(-1,1)\n",
    "        Y = xt[2:].reshape(-1,1)\n",
    "        beta_hat = np.linalg.inv(Z.T@X)@(Z.T@Y)\n",
    "        beta_hat_list.append(beta_hat)\n",
    "    return np.asarray(beta_hat_list)"
   ]
  },
  {
   "cell_type": "markdown",
   "metadata": {},
   "source": [
    "## Q1."
   ]
  },
  {
   "cell_type": "markdown",
   "metadata": {},
   "source": [
    "### (a)"
   ]
  },
  {
   "cell_type": "code",
   "execution_count": 84,
   "metadata": {},
   "outputs": [],
   "source": [
    "q1_AR_param = [0.8]\n",
    "q1_MA_param = [0.7]\n",
    "q1_ARMA11 = ARMA(q1_AR_param, q1_MA_param, 1000, 10, 10000)"
   ]
  },
  {
   "cell_type": "code",
   "execution_count": 85,
   "metadata": {},
   "outputs": [],
   "source": [
    "q1_AR1_ols = AR_p_OLS(q1_ARMA11, 1)\n",
    "q1_AR1_phihat = [ols[\"Beta\"].item(0) for ols in q1_AR1_ols]\n",
    "q1_AR1_phihat = np.asarray(q1_AR1_phihat)\n",
    "q1_AR1_phihat_mean = np.mean(q1_AR1_phihat)"
   ]
  },
  {
   "cell_type": "code",
   "execution_count": 86,
   "metadata": {},
   "outputs": [
    {
     "data": {
      "text/plain": [
       "<matplotlib.legend.Legend at 0x153c83ba948>"
      ]
     },
     "execution_count": 86,
     "metadata": {},
     "output_type": "execute_result"
    },
    {
     "data": {
      "image/png": "[encoded data removed]",
      "text/plain": [
       "<Figure size 432x288 with 1 Axes>"
      ]
     },
     "metadata": {
      "needs_background": "light"
     },
     "output_type": "display_data"
    }
   ],
   "source": [
    "fig, ax = plt.subplots()\n",
    "ax = sns.distplot(q1_AR1_phihat, bins=100)\n",
    "plt.axvline(q1_AR1_phihat_mean, linestyle='--', color='k', label='Mean='+str(np.round(q1_AR1_phihat_mean, decimals=4)))\n",
    "ax.set_xlabel(\"phi_hat\")\n",
    "ax.set_ylabel(\"Frequency\")\n",
    "ax.set_title(\"AR(1) OLS for ARMA(1,1) with sample size = 1000\")\n",
    "ax.legend()"
   ]
  },
  {
   "cell_type": "markdown",
   "metadata": {},
   "source": [
    "### (b)"
   ]
  },
  {
   "cell_type": "code",
   "execution_count": 87,
   "metadata": {},
   "outputs": [
    {
     "data": {
      "image/png": "[encoded data removed]",
      "text/plain": [
       "<Figure size 432x288 with 1 Axes>"
      ]
     },
     "metadata": {
      "needs_background": "light"
     },
     "output_type": "display_data"
    }
   ],
   "source": [
    "q1_AR1_ACF = avg_ACF(q1_AR1_ols, nlags=10, navg=100)\n",
    "plot_ACF(q1_AR1_ACF, 10)"
   ]
  },
  {
   "cell_type": "markdown",
   "metadata": {},
   "source": [
    "### (c)"
   ]
  },
  {
   "cell_type": "code",
   "execution_count": 88,
   "metadata": {},
   "outputs": [
    {
     "data": {
      "text/plain": [
       "<matplotlib.legend.Legend at 0x153c836e848>"
      ]
     },
     "execution_count": 88,
     "metadata": {},
     "output_type": "execute_result"
    },
    {
     "data": {
      "image/png": "[encoded data removed]",
      "text/plain": [
       "<Figure size 432x288 with 1 Axes>"
      ]
     },
     "metadata": {
      "needs_background": "light"
     },
     "output_type": "display_data"
    }
   ],
   "source": [
    "IV_phihat = IV_AR1(q1_ARMA11)\n",
    "IV_phihat_mean = np.mean(IV_phihat)\n",
    "fig, ax = plt.subplots()\n",
    "ax = sns.distplot(IV_phihat, bins=100)\n",
    "plt.axvline(IV_phihat_mean, linestyle='--', color='k', label='Mean='+str(np.round(IV_phihat_mean, decimals=4)))\n",
    "ax.set_xlabel(\"phi_hat\")\n",
    "ax.set_ylabel(\"Frequency\")\n",
    "ax.set_title(\"IV estimation for ARMA(1,1) with sample size = 1000\")\n",
    "ax.legend()"
   ]
  },
  {
   "cell_type": "markdown",
   "metadata": {},
   "source": [
    "In this case, IV is consistent."
   ]
  },
  {
   "cell_type": "markdown",
   "metadata": {},
   "source": [
    "## Q2."
   ]
  },
  {
   "cell_type": "markdown",
   "metadata": {},
   "source": [
    "### (a)(b)"
   ]
  },
  {
   "cell_type": "code",
   "execution_count": 158,
   "metadata": {},
   "outputs": [],
   "source": [
    "lamda_list = [0.95, 0.9, 0.8]\n",
    "phi1 = np.sum(lamda_list)\n",
    "phi2 = -(0.95 * 0.9 + 0.9 * 0.8 + 0.95 * 0.8)\n",
    "phi3 = 0.95*0.9*0.8\n",
    "q2_AR_param = [phi1, phi2, phi3]\n",
    "q2_MA_param = []\n",
    "q2_ARMA30 = ARMA(q2_AR_param, q2_MA_param, 1000, 10, 10000)"
   ]
  },
  {
   "cell_type": "code",
   "execution_count": 159,
   "metadata": {},
   "outputs": [
    {
     "data": {
      "image/png": "[encoded data removed]",
      "text/plain": [
       "<Figure size 1152x936 with 4 Axes>"
      ]
     },
     "metadata": {
      "needs_background": "light"
     },
     "output_type": "display_data"
    }
   ],
   "source": [
    "p_list = range(1,5)\n",
    "fig, axes = plt.subplots(2,2,figsize=(16,13))\n",
    "axes = axes.ravel()\n",
    "for i, p in enumerate(p_list):\n",
    "    q2_ARp_ols = AR_p_OLS(q2_ARMA30, p=p)\n",
    "    q2_ARp_ACF = avg_ACF(q2_ARp_ols, nlags=10, navg=100)\n",
    "    x = np.arange(0, 11)\n",
    "    axes[i].bar(x, q2_ARp_ACF)\n",
    "    axes[i].set_xlabel(\"Number of Lags\")\n",
    "    axes[i].set_ylabel(\"ACF\")\n",
    "    axes[i].set_title(\"ACF for AR({}) estimation on AR(3) DGP\".format(p))"
   ]
  },
  {
   "cell_type": "markdown",
   "metadata": {},
   "source": [
    "### (c)"
   ]
  },
  {
   "cell_type": "markdown",
   "metadata": {},
   "source": [
    "For AR models, we can conclude that omitting lag variables is much severe than including extra lags."
   ]
  },
  {
   "cell_type": "markdown",
   "metadata": {},
   "source": [
    "## Q3"
   ]
  },
  {
   "cell_type": "code",
   "execution_count": 177,
   "metadata": {},
   "outputs": [],
   "source": [
    "def Q3_process(mean, cov, nsample=1000, paths=100):\n",
    "    X = np.random.multivariate_normal(mean, cov, (paths, nsample))\n",
    "    X1 = X[:,:,0]\n",
    "    X2 = X[:,:,1]\n",
    "    E = np.random.normal(0,1,(paths, nsample))\n",
    "    Y = X1 + X2 + E\n",
    "    return Y.T, X1.T, X2.T"
   ]
  },
  {
   "cell_type": "code",
   "execution_count": 189,
   "metadata": {},
   "outputs": [],
   "source": [
    "def Q3_phihat(Y, X1):\n",
    "    q3_ols_result = []\n",
    "    for i in range(Y.shape[1]):\n",
    "        ols_i_result = simple_ols(Y[:, i], X1[:, i])\n",
    "        q3_ols_result.append(ols_i_result)\n",
    "\n",
    "    q3_phihat = [ols[\"Beta\"].item(0) for ols in q3_ols_result]\n",
    "    q3_phihat = np.asarray(q3_phihat)\n",
    "    q3_phihat_mean = np.mean(q3_phihat)\n",
    "    return q3_phihat, q3_phihat_mean"
   ]
  },
  {
   "cell_type": "markdown",
   "metadata": {},
   "source": [
    "### (a)(b)(c)"
   ]
  },
  {
   "cell_type": "code",
   "execution_count": 198,
   "metadata": {},
   "outputs": [],
   "source": [
    "q3_mean = [0, 0]\n",
    "q3a_cov = [[1, 0], [0, 1]]\n",
    "q3b_cov = [[1, 0.5], [0.5, 1]]\n",
    "q3c_cov = [[1, -0.5], [-0.5, 1]]\n",
    "q3_cov_list = [q3a_cov, q3b_cov, q3c_cov]"
   ]
  },
  {
   "cell_type": "code",
   "execution_count": 199,
   "metadata": {},
   "outputs": [
    {
     "data": {
      "image/png": "[encoded data removed]",
      "text/plain": [
       "<Figure size 648x1296 with 3 Axes>"
      ]
     },
     "metadata": {
      "needs_background": "light"
     },
     "output_type": "display_data"
    }
   ],
   "source": [
    "fig, axes = plt.subplots(3,1,figsize=(9,18))\n",
    "axes = axes.ravel()\n",
    "for i, cov in enumerate(q3_cov_list):\n",
    "    Y, X1, X2 = Q3_process(mean=q3_mean, cov=cov, nsample=1000, paths=10000)\n",
    "    q3_phihat, q3_phihat_mean = Q3_phihat(Y, X1)\n",
    "    axes[i].hist(q3_phihat, bins=100)\n",
    "    axes[i].axvline(q3_phihat_mean, linestyle='--', color='k', label='Mean='+str(np.round(q3_phihat_mean, decimals=4)))\n",
    "    axes[i].set_xlabel(\"phi_hat\")\n",
    "    axes[i].set_ylabel(\"Frequency\")\n",
    "    axes[i].set_title(\"Omit x2 when the correlation between x1 and x2 is {}\".format(cov[0][1]))\n",
    "    axes[i].legend()"
   ]
  },
  {
   "cell_type": "markdown",
   "metadata": {},
   "source": [
    "### (d)"
   ]
  },
  {
   "cell_type": "markdown",
   "metadata": {},
   "source": [
    "From the above results, we can see that when the covariance between x1 and x2 equaled to 0, the estimated beta for x1 when omitting x2 in the regression is still consistent. However, when x1 and x2 were correlated, the estimated beta is biased and inconsistent. We can conclude that, when regressors are orthogonal to errors, the estimation coefficients for the regressors are still consistent."
   ]
  },
  {
   "cell_type": "markdown",
   "metadata": {},
   "source": [
    "## Q4"
   ]
  },
  {
   "cell_type": "markdown",
   "metadata": {},
   "source": [
    "In order to let the process be stationary, we need all roots outside unit circle.\n",
    "\n",
    "The determinant of the characteristic matrix:\n",
    "\n",
    "$\\begin{vmatrix}\n",
    "(1-0.5L) & -0.1L\\\\\n",
    "(-0.4L-0.25L^2) & (1-0.5L)\n",
    "\\end{vmatrix}$\n",
    "\n",
    "let det = $-0.025L^3+0.21L^2-L+1$ = 0"
   ]
  },
  {
   "cell_type": "code",
   "execution_count": 202,
   "metadata": {},
   "outputs": [
    {
     "name": "stdout",
     "output_type": "stream",
     "text": [
      "[3.55002152+4.2623464j 3.55002152-4.2623464j 1.29995695+0.j       ]\n"
     ]
    }
   ],
   "source": [
    "p = [-0.025, 0.21, -1, 1]\n",
    "print(np.roots(p))"
   ]
  },
  {
   "cell_type": "markdown",
   "metadata": {},
   "source": [
    "we can see that all roots are outside the unit circle, so the bivariate process is stationary"
   ]
  },
  {
   "cell_type": "markdown",
   "metadata": {},
   "source": [
    "## Q5"
   ]
  },
  {
   "cell_type": "markdown",
   "metadata": {},
   "source": [
    "### (b)"
   ]
  },
  {
   "cell_type": "code",
   "execution_count": 289,
   "metadata": {},
   "outputs": [],
   "source": [
    "def Q5_MA1(mu, theta, sigma, e0):\n",
    "    etm1 = e0\n",
    "    zt_list = []\n",
    "    et_list = []\n",
    "    for i in range(100):\n",
    "        et = np.random.normal(0, sigma**2, 1)\n",
    "        zt = mu + et + 0.5 * etm1\n",
    "        zt_list.append(zt)\n",
    "        et_list.append(et)\n",
    "        etm1 = et\n",
    "    return np.asarray(zt_list)"
   ]
  },
  {
   "cell_type": "code",
   "execution_count": 290,
   "metadata": {},
   "outputs": [],
   "source": [
    "q5_zt_list = Q5_MA1(1, 0.5, 1, 0)"
   ]
  },
  {
   "cell_type": "code",
   "execution_count": 291,
   "metadata": {},
   "outputs": [],
   "source": [
    "def Q5_logL_MLE_MA1(param = []):\n",
    "    mu, theta, sigma = param\n",
    "    T = q5_zt_list.shape[0]\n",
    "    e0 = 0\n",
    "    eim1 = e0\n",
    "    e_list = []\n",
    "    for i in range(T):\n",
    "        ei = q5_zt_list[i] - mu - theta * eim1\n",
    "        eim1 = ei\n",
    "        e_list.append(ei)\n",
    "    e_list = np.asarray(e_list)\n",
    "    logL = -T/2*np.log(2*np.pi)-T/2*np.log(sigma**2)-1/(2*sigma**2)*np.sum(e_list**2)\n",
    "    return logL"
   ]
  },
  {
   "cell_type": "code",
   "execution_count": 292,
   "metadata": {},
   "outputs": [],
   "source": [
    "def Q5_neg_logL(param = []):\n",
    "    return -Q5_logL_MLE_MA1(param)"
   ]
  },
  {
   "cell_type": "code",
   "execution_count": 293,
   "metadata": {},
   "outputs": [
    {
     "name": "stdout",
     "output_type": "stream",
     "text": [
      "Optimization terminated successfully.\n",
      "         Current function value: 145.723670\n",
      "         Iterations: 76\n",
      "         Function evaluations: 139\n"
     ]
    }
   ],
   "source": [
    "initial_guess = [0.5,0.5,0.5]\n",
    "result = fmin(Q5_neg_logL, initial_guess)"
   ]
  },
  {
   "cell_type": "code",
   "execution_count": 296,
   "metadata": {},
   "outputs": [
    {
     "name": "stdout",
     "output_type": "stream",
     "text": [
      "[mu, theta, sigma]\n",
      "[0.94189009 0.51457755 1.03902206]\n"
     ]
    }
   ],
   "source": [
    "print(\"[mu, theta, sigma]\")\n",
    "print(result)"
   ]
  },
  {
   "cell_type": "markdown",
   "metadata": {},
   "source": [
    "### (C)"
   ]
  },
  {
   "cell_type": "code",
   "execution_count": 297,
   "metadata": {},
   "outputs": [
    {
     "ename": "AttributeError",
     "evalue": "'numpy.ndarray' object has no attribute 'hess_inv'",
     "output_type": "error",
     "traceback": [
      "\u001b[1;31m---------------------------------------------------------------------------\u001b[0m",
      "\u001b[1;31mAttributeError\u001b[0m                            Traceback (most recent call last)",
      "\u001b[1;32m<ipython-input-297-282471ac8385>\u001b[0m in \u001b[0;36m<module>\u001b[1;34m\u001b[0m\n\u001b[1;32m----> 1\u001b[1;33m \u001b[0mnp\u001b[0m\u001b[1;33m.\u001b[0m\u001b[0msqrt\u001b[0m\u001b[1;33m(\u001b[0m\u001b[0mnp\u001b[0m\u001b[1;33m.\u001b[0m\u001b[0mdiag\u001b[0m\u001b[1;33m(\u001b[0m\u001b[0mresult\u001b[0m\u001b[1;33m.\u001b[0m\u001b[0mhess_inv\u001b[0m\u001b[1;33m)\u001b[0m\u001b[1;33m/\u001b[0m\u001b[1;36m100\u001b[0m\u001b[1;33m)\u001b[0m\u001b[1;33m\u001b[0m\u001b[1;33m\u001b[0m\u001b[0m\n\u001b[0m",
      "\u001b[1;31mAttributeError\u001b[0m: 'numpy.ndarray' object has no attribute 'hess_inv'"
     ]
    }
   ],
   "source": [
    "np.sqrt(np.diag(result.hess_inv)/100)"
   ]
  },
  {
   "cell_type": "markdown",
   "metadata": {},
   "source": [
    "## (d)"
   ]
  },
  {
   "cell_type": "code",
   "execution_count": 285,
   "metadata": {},
   "outputs": [],
   "source": [
    "model = ARMA(q5_zt_list, order=(0, 1))\n",
    "model_fit = model.fit(method=\"css-mle\", disp=False)"
   ]
  },
  {
   "cell_type": "code",
   "execution_count": 286,
   "metadata": {},
   "outputs": [
    {
     "data": {
      "text/html": [
       "<table class=\"simpletable\">\n",
       "<caption>ARMA Model Results</caption>\n",
       "<tr>\n",
       "  <th>Dep. Variable:</th>         <td>y</td>        <th>  No. Observations:  </th>    <td>100</td>  \n",
       "</tr>\n",
       "<tr>\n",
       "  <th>Model:</th>            <td>ARMA(0, 1)</td>    <th>  Log Likelihood     </th> <td>-149.279</td>\n",
       "</tr>\n",
       "<tr>\n",
       "  <th>Method:</th>             <td>css-mle</td>     <th>  S.D. of innovations</th>   <td>1.074</td> \n",
       "</tr>\n",
       "<tr>\n",
       "  <th>Date:</th>          <td>Thu, 16 Apr 2020</td> <th>  AIC                </th>  <td>304.557</td>\n",
       "</tr>\n",
       "<tr>\n",
       "  <th>Time:</th>              <td>22:22:58</td>     <th>  BIC                </th>  <td>312.373</td>\n",
       "</tr>\n",
       "<tr>\n",
       "  <th>Sample:</th>                <td>0</td>        <th>  HQIC               </th>  <td>307.720</td>\n",
       "</tr>\n",
       "<tr>\n",
       "  <th></th>                       <td> </td>        <th>                     </th>     <td> </td>   \n",
       "</tr>\n",
       "</table>\n",
       "<table class=\"simpletable\">\n",
       "<tr>\n",
       "     <td></td>        <th>coef</th>     <th>std err</th>      <th>z</th>      <th>P>|z|</th>  <th>[0.025</th>    <th>0.975]</th>  \n",
       "</tr>\n",
       "<tr>\n",
       "  <th>const</th>   <td>    0.8928</td> <td>    0.171</td> <td>    5.226</td> <td> 0.000</td> <td>    0.558</td> <td>    1.228</td>\n",
       "</tr>\n",
       "<tr>\n",
       "  <th>ma.L1.y</th> <td>    0.5960</td> <td>    0.077</td> <td>    7.758</td> <td> 0.000</td> <td>    0.445</td> <td>    0.747</td>\n",
       "</tr>\n",
       "</table>\n",
       "<table class=\"simpletable\">\n",
       "<caption>Roots</caption>\n",
       "<tr>\n",
       "    <td></td>   <th>            Real</th>  <th>         Imaginary</th> <th>         Modulus</th>  <th>        Frequency</th>\n",
       "</tr>\n",
       "<tr>\n",
       "  <th>MA.1</th> <td>          -1.6778</td> <td>          +0.0000j</td> <td>           1.6778</td> <td>           0.5000</td>\n",
       "</tr>\n",
       "</table>"
      ],
      "text/plain": [
       "<class 'statsmodels.iolib.summary.Summary'>\n",
       "\"\"\"\n",
       "                              ARMA Model Results                              \n",
       "==============================================================================\n",
       "Dep. Variable:                      y   No. Observations:                  100\n",
       "Model:                     ARMA(0, 1)   Log Likelihood                -149.279\n",
       "Method:                       css-mle   S.D. of innovations              1.074\n",
       "Date:                Thu, 16 Apr 2020   AIC                            304.557\n",
       "Time:                        22:22:58   BIC                            312.373\n",
       "Sample:                             0   HQIC                           307.720\n",
       "                                                                              \n",
       "==============================================================================\n",
       "                 coef    std err          z      P>|z|      [0.025      0.975]\n",
       "------------------------------------------------------------------------------\n",
       "const          0.8928      0.171      5.226      0.000       0.558       1.228\n",
       "ma.L1.y        0.5960      0.077      7.758      0.000       0.445       0.747\n",
       "                                    Roots                                    \n",
       "=============================================================================\n",
       "                  Real          Imaginary           Modulus         Frequency\n",
       "-----------------------------------------------------------------------------\n",
       "MA.1           -1.6778           +0.0000j            1.6778            0.5000\n",
       "-----------------------------------------------------------------------------\n",
       "\"\"\""
      ]
     },
     "execution_count": 286,
     "metadata": {},
     "output_type": "execute_result"
    }
   ],
   "source": [
    "model_fit.summary()"
   ]
  }
 ],
 "metadata": {
  "kernelspec": {
   "display_name": "Python 3",
   "language": "python",
   "name": "python3"
  },
  "language_info": {
   "codemirror_mode": {
    "name": "ipython",
    "version": 3
   },
   "file_extension": ".py",
   "mimetype": "text/x-python",
   "name": "python",
   "nbconvert_exporter": "python",
   "pygments_lexer": "ipython3",
   "version": "3.7.7"
  }
 },
 "nbformat": 4,
 "nbformat_minor": 4
}
