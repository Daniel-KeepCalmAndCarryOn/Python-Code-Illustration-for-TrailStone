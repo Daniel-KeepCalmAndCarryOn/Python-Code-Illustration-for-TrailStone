{
 "cells": [
  {
   "cell_type": "code",
   "execution_count": 1,
   "metadata": {},
   "outputs": [],
   "source": [
    "import numpy as np\n",
    "import pandas as pd\n",
    "import matplotlib.pyplot as plt\n",
    "import seaborn as sns\n",
    "import math\n",
    "from scipy.stats import t"
   ]
  },
  {
   "cell_type": "markdown",
   "metadata": {},
   "source": [
    "## Q1."
   ]
  },
  {
   "cell_type": "markdown",
   "metadata": {},
   "source": [
    "##### (a)\n",
    "This model satisfies the assumptions of classical OLS model and asymptotic OLS model. \\\n",
    "The classcial OLS model is appropriate in this case. \\\n",
    "The beta_hat is unbiased, consistent, and it follows normal distribution. \\\n",
    "The theoretical standard error of beta_hat = 1/sqrt(T)"
   ]
  },
  {
   "cell_type": "markdown",
   "metadata": {},
   "source": [
    "##### (b)"
   ]
  },
  {
   "cell_type": "code",
   "execution_count": 2,
   "metadata": {},
   "outputs": [],
   "source": [
    "def ols(y, X, White=True, intercept=True, var_names=None):\n",
    "    if type(y) != np.ndarray:\n",
    "        y = y.to_numpy().reshape(-1, 1)\n",
    "    if type(X) != np.ndarray:\n",
    "        X = X.to_numpy().reshape(-1, 1) if len(X.shape) == 1 else X.to_numpy()\n",
    "    n = X.shape[0]\n",
    "    const = False\n",
    "    for i in range(X.shape[1]):\n",
    "        if np.array_equal(X[:,i], np.ones(n)):\n",
    "            const = True     \n",
    "    k = X.shape[1] + 1 if not const and intercept else X.shape[1]\n",
    "    df_model = X.shape[1]-1 if const else X.shape[1]\n",
    "    df_resid = n-k\n",
    "    X = np.column_stack((np.ones(n), X)) if not const and intercept else X\n",
    "    if var_names:\n",
    "        names_x = var_names\n",
    "    else:\n",
    "        if const or intercept:\n",
    "            names_x = [\"intercept\"]+[\"x\"+str(i) for i in range(1,k)]\n",
    "        else:\n",
    "            names_x = [\"x\"+str(i) for i in range(1,k+1)]\n",
    "    \n",
    "    beta = np.linalg.inv(X.T@X)@(X.T@y)\n",
    "    y_fitted = X@beta\n",
    "    e = np.reshape((y - y_fitted), (-1, 1))\n",
    "    sigma_squared = (1/(n-k))*np.sum(np.square(e))\n",
    "    ols_var_cov_beta = np.linalg.inv(X.T@X) * sigma_squared\n",
    "    ols_se = np.sqrt(np.diag(ols_var_cov_beta))\n",
    "    White_var_cov_beta = (n/(n-k))*np.linalg.inv(X.T@X)@X.T@np.diag(np.diag(e@e.T))@X@np.linalg.inv(X.T@X)\n",
    "    White_se = np.sqrt(np.diag(White_var_cov_beta))\n",
    "    se = White_se if White else ols_se\n",
    "    se = se.reshape(-1, 1)\n",
    "    R_squared = 1 - np.sum(np.square(e))/np.sum(np.square(y-np.average(y)))\n",
    "    adjusted_R_squared = 1 - (1-R_squared)*(n-1)/(n-k-1)\n",
    "    max_log_likelihood = (-n/2)*(math.log(2*math.pi)+1)-(n/2)*math.log((1/n)*np.sum(np.square(e)))\n",
    "    P = X@np.linalg.inv(X.T@X)@X.T\n",
    "    M = np.identity(n) - P\n",
    "    PM = P@M\n",
    "    PM_equal_0 = np.all(PM<pow(10, -10))\n",
    "    E_ex = X.T@e\n",
    "    E_ex_equal_0 = np.all(E_ex<pow(10, -10))\n",
    "    Q = np.zeros((k,k))\n",
    "    for i in range(n):\n",
    "        Q += X[i,:].reshape(1,-1).T@X[i,:].reshape(1,-1)\n",
    "    Q = Q/n\n",
    "    cond_Q = np.linalg.cond(Q)\n",
    "    cond_X = np.linalg.cond(X)\n",
    "    results = {\"Number of parameters\": k,\n",
    "               \"Names of parameters\": names_x,\n",
    "               \"Sample size\": n,\n",
    "               \"Degrees of freedom for residuals\": df_resid,\n",
    "               \"Degrees of freedom for model\": df_model,\n",
    "               \"y\": y,\n",
    "               \"X\": X,\n",
    "               \"Fitted y\": y_fitted,\n",
    "               \"Residuals\": e,\n",
    "               \"Beta\": beta,\n",
    "               \"OLS standard errors\": ols_se,\n",
    "               \"White standard errors\": White_se,\n",
    "               \"OLS variance-covariance matrix\": ols_var_cov_beta,\n",
    "               \"White variance-covariance matrix\": White_var_cov_beta,\n",
    "               \"Standard errors\": se,\n",
    "               \"Maximized log-likelihood function\": max_log_likelihood,\n",
    "               \"R squared\": R_squared,\n",
    "               \"Adjusted R squared\": adjusted_R_squared,\n",
    "               \"PM = 0\": PM_equal_0,\n",
    "               \"E(ex) = 0\": E_ex_equal_0,\n",
    "               \"Conditional number for Q\": cond_Q,\n",
    "               \"Conditional number for X\": cond_X}\n",
    "    return results"
   ]
  },
  {
   "cell_type": "code",
   "execution_count": 3,
   "metadata": {},
   "outputs": [],
   "source": [
    "def t_test(ols_results, b):\n",
    "    b = np.array(b).reshape(-1, 1)\n",
    "    t_test = (ols_results[\"Beta\"] - b)/ols_results[\"Standard errors\"]\n",
    "    alpha_list = [0.01, 0.05, 0.1]\n",
    "    p_value = [t.sf(abs(t_i.item(0)), ols_results[\"Degrees of freedom for residuals\"])*2 for t_i in t_test]\n",
    "    boolList = [[\"Rejected\" if p < alpha else \"Not rejected\" for p in p_value] for alpha in alpha_list]\n",
    "    test_results = {k: v for (k,v) in zip(alpha_list, boolList)}\n",
    "    results = {\"Null hypothesis\": b, \"T-statistics\": t_test, \"P-values\": p_value, \"Test results\": test_results}\n",
    "    return results"
   ]
  },
  {
   "cell_type": "code",
   "execution_count": 4,
   "metadata": {},
   "outputs": [],
   "source": [
    "def print_ols_results(ols_results):\n",
    "    subset_dict = {k: ols_results[k] for k in [\"Number of parameters\",\n",
    "                                               \"Degrees of freedom for residuals\",\n",
    "                                               \"Degrees of freedom for model\",\n",
    "                                               \"Maximized log-likelihood function\",\n",
    "                                               \"R squared\",\n",
    "                                               \"Adjusted R squared\",\n",
    "                                               \"PM = 0\",\n",
    "                                               \"E(ex) = 0\",\n",
    "                                               \"Conditional number for Q\",\n",
    "                                               \"Conditional number for X\"]}\n",
    "    df1 = pd.DataFrame(subset_dict.items(), columns=[\"Name\", \"Value\"])\n",
    "    df1 = df1.round(3)\n",
    "    ols_dict = {k: ols_results[k] for k in [\"Names of parameters\", \"Beta\",\n",
    "                                            \"OLS standard errors\", \"White standard errors\"]}\n",
    "    df2 = pd.DataFrame(data={\"Indepent Variable\": ols_dict[\"Names of parameters\"],\n",
    "                             \"Coefficient\": ols_dict[\"Beta\"].flatten(),\n",
    "                             \"OLS standard errors\": ols_dict[\"OLS standard errors\"],\n",
    "                             \"White standard errors\": ols_dict[\"White standard errors\"]})\n",
    "    df2 = df2.round(3)\n",
    "    display(df1)\n",
    "    display(df2)\n",
    "    \n",
    "def print_t_test_results(t_results, ols_results):\n",
    "    data = {\"Null hypothesis\": t_results[\"Null hypothesis\"].flatten(),\n",
    "            \"Indepent Variable\": ols_results[\"Names of parameters\"],\n",
    "            \"T-statistics\": t_results[\"T-statistics\"].flatten(),\n",
    "            \"P-values\": t_results[\"P-values\"]}\n",
    "    combined_data = {**data, **t_results[\"Test results\"]}\n",
    "    df = pd.DataFrame(combined_data)\n",
    "    df = df.round(3)\n",
    "    display(df)"
   ]
  },
  {
   "cell_type": "code",
   "execution_count": 5,
   "metadata": {
    "scrolled": false
   },
   "outputs": [
    {
     "data": {
      "image/png": "[encoded data removed]",
      "text/plain": [
       "<Figure size 1152x1296 with 6 Axes>"
      ]
     },
     "metadata": {
      "needs_background": "light"
     },
     "output_type": "display_data"
    }
   ],
   "source": [
    "T_list = [20, 50, 100, 500, 1000]\n",
    "fig, axs = plt.subplots(3,2,figsize=(16,18))\n",
    "axs = axs.ravel()\n",
    "for n, T in enumerate(T_list):\n",
    "    beta_list = []\n",
    "    for i in range(10000):\n",
    "        x = np.random.normal(size = T).reshape(-1,1)\n",
    "        e = np.random.normal(size = T).reshape(-1,1)\n",
    "        y = x + e\n",
    "        ols_results = ols(y, x, intercept=False)\n",
    "        beta_list.append(ols_results[\"Beta\"].item(0))\n",
    "    axs[n].hist(beta_list, bins=30)\n",
    "    axs[n].set_xlabel(\"Beta_hat\")\n",
    "    axs[n].set_ylabel(\"Frequency\")\n",
    "    axs[n].set_title(\"T=\" + str(T))"
   ]
  },
  {
   "cell_type": "markdown",
   "metadata": {},
   "source": [
    "Theoretically, the beta_hat follows a normal distribution with mean 1 and variance (X'X)^(-1). The result showed that the actual distribution tallied with the theoretical distribution."
   ]
  },
  {
   "cell_type": "markdown",
   "metadata": {},
   "source": [
    "## Q2."
   ]
  },
  {
   "cell_type": "code",
   "execution_count": 6,
   "metadata": {},
   "outputs": [
    {
     "data": {
      "image/png": "[encoded data removed]",
      "text/plain": [
       "<Figure size 1152x1296 with 6 Axes>"
      ]
     },
     "metadata": {
      "needs_background": "light"
     },
     "output_type": "display_data"
    }
   ],
   "source": [
    "T_list = [20, 50, 100, 500, 1000]\n",
    "fig, axs = plt.subplots(3,2,figsize=(16,18))\n",
    "axs = axs.ravel()\n",
    "for n, T in enumerate(T_list):\n",
    "    beta_list = []\n",
    "    for i in range(10000):\n",
    "        x = (np.random.chisquare(df=1, size=T)-1).reshape(-1,1)\n",
    "        e = (np.random.chisquare(df=1, size=T)-1).reshape(-1,1)\n",
    "        y = x + e\n",
    "        ols_results = ols(y, x, intercept=False)\n",
    "        beta_list.append(ols_results[\"Beta\"].item(0))\n",
    "    axs[n].hist(beta_list, bins=30)\n",
    "    axs[n].set_xlabel(\"Beta_hat\")\n",
    "    axs[n].set_ylabel(\"Frequency\")\n",
    "    axs[n].set_title(\"T=\" + str(T))"
   ]
  },
  {
   "cell_type": "markdown",
   "metadata": {},
   "source": [
    "The reason why we added 1 to x and e was to make the mean value of x and e equalling to 0.\n",
    "Given that the errors followed the chi-square distribution instead of the normal distribution, the beta_hat did not follow the normal distribution as well. Indeed, based on the result, we can see that the distribution was slightly right-skewed."
   ]
  },
  {
   "cell_type": "markdown",
   "metadata": {},
   "source": [
    "## Q3"
   ]
  },
  {
   "cell_type": "markdown",
   "metadata": {},
   "source": [
    "##### (a)"
   ]
  },
  {
   "cell_type": "code",
   "execution_count": 7,
   "metadata": {},
   "outputs": [
    {
     "data": {
      "text/plain": [
       "<matplotlib.axes._subplots.AxesSubplot at 0x1be12407988>"
      ]
     },
     "execution_count": 7,
     "metadata": {},
     "output_type": "execute_result"
    },
    {
     "data": {
      "image/png": "[encoded data removed]",
      "text/plain": [
       "<Figure size 432x288 with 1 Axes>"
      ]
     },
     "metadata": {
      "needs_background": "light"
     },
     "output_type": "display_data"
    }
   ],
   "source": [
    "df = pd.read_excel(\"Tbill10yr.xls\", skiprows=range(0,13),header=1)\n",
    "sns.lineplot(x=\"DATE\", y=\"VALUE\", data=df)"
   ]
  },
  {
   "cell_type": "markdown",
   "metadata": {},
   "source": [
    "#### (b)"
   ]
  },
  {
   "cell_type": "code",
   "execution_count": 8,
   "metadata": {},
   "outputs": [],
   "source": [
    "def IC(ols_results):\n",
    "    k = ols_results[\"Number of parameters\"]\n",
    "    n = ols_results[\"Sample size\"]\n",
    "    e = ols_results[\"Residuals\"]\n",
    "    ssr = np.sum(np.square(e))\n",
    "    llf = -(n/2)*(np.log(2*np.pi)+1) - (n/2)*np.log(ssr/n)\n",
    "    AIC = -2*llf/n + 2*k/n\n",
    "    BIC = -2*llf/n + 2*k*np.log(n)/n\n",
    "    HQIC = -2*llf/n + 2*k*np.log(np.log(n))/n\n",
    "    results = {\"AIC\": AIC, \"BIC\": BIC, \"Hannah-Quinn IC\": HQIC}\n",
    "    return results"
   ]
  },
  {
   "cell_type": "code",
   "execution_count": 9,
   "metadata": {},
   "outputs": [],
   "source": [
    "def ACF(data, nlags):\n",
    "    ACF_list = []\n",
    "    for lag in range(nlags+1):\n",
    "        data_lag = data.shift(periods=lag)\n",
    "        mean = np.sum(data_lag[lag:])/(data_lag.shape[0]-lag)\n",
    "        xt_demean = data - mean\n",
    "        xt_lag_demean = data_lag - mean\n",
    "        nom = np.sum(xt_demean*xt_lag_demean)\n",
    "        denom = np.sum(xt_demean**2)\n",
    "        ACF = nom/denom\n",
    "        ACF_list.append(ACF)\n",
    "    return np.asarray(ACF_list)"
   ]
  },
  {
   "cell_type": "code",
   "execution_count": 10,
   "metadata": {},
   "outputs": [],
   "source": [
    "def PACF(data, nlags):\n",
    "    '''OLS with constants to compute PACF'''\n",
    "    PACF_list = []\n",
    "    df_lags = data\n",
    "    for lag in range(1, nlags+1):\n",
    "        df_lag = data.shift(periods=lag)\n",
    "        df_lag.name = \"VALUE_LAG_{}\".format(lag)\n",
    "        df_lags = pd.concat([df_lags, df_lag], axis=1)\n",
    "        \n",
    "    for i in range(nlags+1):\n",
    "        df_ilag = df_lags.iloc[:,:i+1]\n",
    "        df_ilag = df_ilag.dropna()\n",
    "        xt = df_ilag.iloc[:, 0]\n",
    "        xt_mid_lags = df_ilag.iloc[:,1:-1]\n",
    "        xt_last_lag = df_ilag.iloc[:, -1]\n",
    "        ols_xt = ols(xt, xt_mid_lags, White=True)\n",
    "        ols_xtli = ols(xt_last_lag, xt_mid_lags, intercept=True)\n",
    "        ols_xt_e = ols_xt[\"Residuals\"].flatten()\n",
    "        ols_xtli_e = ols_xtli[\"Residuals\"].flatten()\n",
    "        PACF = np.corrcoef(ols_xt_e, ols_xtli_e).item((0,1))\n",
    "        PACF_list.append(PACF)\n",
    "        \n",
    "    return np.asarray(PACF_list)"
   ]
  },
  {
   "cell_type": "code",
   "execution_count": 11,
   "metadata": {},
   "outputs": [],
   "source": [
    "def plot_ACF_PACF(data, nlags):\n",
    "    x = np.arange(0, nlags+1)\n",
    "    ACF_result = ACF(data, nlags)\n",
    "    PACF_result = PACF(data, nlags)\n",
    "    fig, axs = plt.subplots(1,2,figsize=(16,6))\n",
    "    axs[0].bar(x, ACF_result, width=0.08)\n",
    "    axs[0].set_xlabel(\"Number of Lags\")\n",
    "    axs[0].set_ylabel(\"ACF\")\n",
    "    axs[1].bar(x, PACF_result, width=0.08)\n",
    "    axs[1].plot([0, nlags], [0, 0], color=\"r\", linewidth=0.5)\n",
    "    axs[1].set_xlabel(\"Number of Lags\")\n",
    "    axs[1].set_ylabel(\"PACF\")"
   ]
  },
  {
   "cell_type": "code",
   "execution_count": 12,
   "metadata": {
    "scrolled": false
   },
   "outputs": [
    {
     "data": {
      "image/png": "[encoded data removed]",
      "text/plain": [
       "<Figure size 1152x432 with 2 Axes>"
      ]
     },
     "metadata": {
      "needs_background": "light"
     },
     "output_type": "display_data"
    }
   ],
   "source": [
    "x = df[\"VALUE\"]\n",
    "plot_ACF_PACF(data=x, nlags=10)"
   ]
  },
  {
   "cell_type": "markdown",
   "metadata": {},
   "source": [
    "Based on the ACF and PACF plots above, the process is likely to be a AR(1) process, but the PACF for 2nd and 3rd lag terms are still relatively lager than 0. Thus, we need further analysis to confirm."
   ]
  },
  {
   "cell_type": "markdown",
   "metadata": {},
   "source": [
    "#### (c)"
   ]
  },
  {
   "cell_type": "code",
   "execution_count": 13,
   "metadata": {},
   "outputs": [],
   "source": [
    "x = df[\"VALUE\"]\n",
    "x_lag1 = x.shift(periods=1).dropna()\n",
    "x_lag2 = x.shift(periods=2).dropna()\n",
    "x_lag12 = pd.concat([x_lag1[1:], x_lag2], axis=1)\n",
    "ols_AR1 = ols(x[1:], x_lag1, White=True, intercept=True, var_names=[\"mu\", \"Xt-1\"])\n",
    "ols_AR2 = ols(x[2:], x_lag12, White=True, intercept=True, var_names=[\"mu\", \"Xt-1\", \"Xt-2\"])"
   ]
  },
  {
   "cell_type": "markdown",
   "metadata": {},
   "source": [
    "#### (d)"
   ]
  },
  {
   "cell_type": "code",
   "execution_count": 14,
   "metadata": {},
   "outputs": [
    {
     "data": {
      "text/html": [
       "<div>\n",
       "<style scoped>\n",
       "    .dataframe tbody tr th:only-of-type {\n",
       "        vertical-align: middle;\n",
       "    }\n",
       "\n",
       "    .dataframe tbody tr th {\n",
       "        vertical-align: top;\n",
       "    }\n",
       "\n",
       "    .dataframe thead th {\n",
       "        text-align: right;\n",
       "    }\n",
       "</style>\n",
       "<table border=\"1\" class=\"dataframe\">\n",
       "  <thead>\n",
       "    <tr style=\"text-align: right;\">\n",
       "      <th></th>\n",
       "      <th>Name</th>\n",
       "      <th>Value</th>\n",
       "    </tr>\n",
       "  </thead>\n",
       "  <tbody>\n",
       "    <tr>\n",
       "      <th>0</th>\n",
       "      <td>Number of parameters</td>\n",
       "      <td>2</td>\n",
       "    </tr>\n",
       "    <tr>\n",
       "      <th>1</th>\n",
       "      <td>Degrees of freedom for residuals</td>\n",
       "      <td>728</td>\n",
       "    </tr>\n",
       "    <tr>\n",
       "      <th>2</th>\n",
       "      <td>Degrees of freedom for model</td>\n",
       "      <td>1</td>\n",
       "    </tr>\n",
       "    <tr>\n",
       "      <th>3</th>\n",
       "      <td>Maximized log-likelihood function</td>\n",
       "      <td>-89.0811</td>\n",
       "    </tr>\n",
       "    <tr>\n",
       "      <th>4</th>\n",
       "      <td>R squared</td>\n",
       "      <td>0.990283</td>\n",
       "    </tr>\n",
       "    <tr>\n",
       "      <th>5</th>\n",
       "      <td>Adjusted R squared</td>\n",
       "      <td>0.990256</td>\n",
       "    </tr>\n",
       "    <tr>\n",
       "      <th>6</th>\n",
       "      <td>PM = 0</td>\n",
       "      <td>True</td>\n",
       "    </tr>\n",
       "    <tr>\n",
       "      <th>7</th>\n",
       "      <td>E(ex) = 0</td>\n",
       "      <td>True</td>\n",
       "    </tr>\n",
       "    <tr>\n",
       "      <th>8</th>\n",
       "      <td>Conditional number for Q</td>\n",
       "      <td>272.061</td>\n",
       "    </tr>\n",
       "    <tr>\n",
       "      <th>9</th>\n",
       "      <td>Conditional number for X</td>\n",
       "      <td>16.4943</td>\n",
       "    </tr>\n",
       "  </tbody>\n",
       "</table>\n",
       "</div>"
      ],
      "text/plain": [
       "                                Name     Value\n",
       "0               Number of parameters         2\n",
       "1   Degrees of freedom for residuals       728\n",
       "2       Degrees of freedom for model         1\n",
       "3  Maximized log-likelihood function  -89.0811\n",
       "4                          R squared  0.990283\n",
       "5                 Adjusted R squared  0.990256\n",
       "6                             PM = 0      True\n",
       "7                          E(ex) = 0      True\n",
       "8           Conditional number for Q   272.061\n",
       "9           Conditional number for X   16.4943"
      ]
     },
     "metadata": {},
     "output_type": "display_data"
    },
    {
     "data": {
      "text/html": [
       "<div>\n",
       "<style scoped>\n",
       "    .dataframe tbody tr th:only-of-type {\n",
       "        vertical-align: middle;\n",
       "    }\n",
       "\n",
       "    .dataframe tbody tr th {\n",
       "        vertical-align: top;\n",
       "    }\n",
       "\n",
       "    .dataframe thead th {\n",
       "        text-align: right;\n",
       "    }\n",
       "</style>\n",
       "<table border=\"1\" class=\"dataframe\">\n",
       "  <thead>\n",
       "    <tr style=\"text-align: right;\">\n",
       "      <th></th>\n",
       "      <th>Indepent Variable</th>\n",
       "      <th>Coefficient</th>\n",
       "      <th>OLS standard errors</th>\n",
       "      <th>White standard errors</th>\n",
       "    </tr>\n",
       "  </thead>\n",
       "  <tbody>\n",
       "    <tr>\n",
       "      <th>0</th>\n",
       "      <td>mu</td>\n",
       "      <td>0.029</td>\n",
       "      <td>0.024</td>\n",
       "      <td>0.032</td>\n",
       "    </tr>\n",
       "    <tr>\n",
       "      <th>1</th>\n",
       "      <td>Xt-1</td>\n",
       "      <td>0.995</td>\n",
       "      <td>0.004</td>\n",
       "      <td>0.006</td>\n",
       "    </tr>\n",
       "  </tbody>\n",
       "</table>\n",
       "</div>"
      ],
      "text/plain": [
       "  Indepent Variable  Coefficient  OLS standard errors  White standard errors\n",
       "0                mu        0.029                0.024                  0.032\n",
       "1              Xt-1        0.995                0.004                  0.006"
      ]
     },
     "metadata": {},
     "output_type": "display_data"
    },
    {
     "data": {
      "text/html": [
       "<div>\n",
       "<style scoped>\n",
       "    .dataframe tbody tr th:only-of-type {\n",
       "        vertical-align: middle;\n",
       "    }\n",
       "\n",
       "    .dataframe tbody tr th {\n",
       "        vertical-align: top;\n",
       "    }\n",
       "\n",
       "    .dataframe thead th {\n",
       "        text-align: right;\n",
       "    }\n",
       "</style>\n",
       "<table border=\"1\" class=\"dataframe\">\n",
       "  <thead>\n",
       "    <tr style=\"text-align: right;\">\n",
       "      <th></th>\n",
       "      <th>Null hypothesis</th>\n",
       "      <th>Indepent Variable</th>\n",
       "      <th>T-statistics</th>\n",
       "      <th>P-values</th>\n",
       "      <th>0.01</th>\n",
       "      <th>0.05</th>\n",
       "      <th>0.1</th>\n",
       "    </tr>\n",
       "  </thead>\n",
       "  <tbody>\n",
       "    <tr>\n",
       "      <th>0</th>\n",
       "      <td>0</td>\n",
       "      <td>mu</td>\n",
       "      <td>0.908</td>\n",
       "      <td>0.364</td>\n",
       "      <td>Not rejected</td>\n",
       "      <td>Not rejected</td>\n",
       "      <td>Not rejected</td>\n",
       "    </tr>\n",
       "    <tr>\n",
       "      <th>1</th>\n",
       "      <td>0</td>\n",
       "      <td>Xt-1</td>\n",
       "      <td>162.840</td>\n",
       "      <td>0.000</td>\n",
       "      <td>Rejected</td>\n",
       "      <td>Rejected</td>\n",
       "      <td>Rejected</td>\n",
       "    </tr>\n",
       "  </tbody>\n",
       "</table>\n",
       "</div>"
      ],
      "text/plain": [
       "   Null hypothesis Indepent Variable  T-statistics  P-values          0.01  \\\n",
       "0                0                mu         0.908     0.364  Not rejected   \n",
       "1                0              Xt-1       162.840     0.000      Rejected   \n",
       "\n",
       "           0.05           0.1  \n",
       "0  Not rejected  Not rejected  \n",
       "1      Rejected      Rejected  "
      ]
     },
     "metadata": {},
     "output_type": "display_data"
    }
   ],
   "source": [
    "print_ols_results(ols_AR1)\n",
    "b_0 = [0, 0]\n",
    "t_AR1 = t_test(ols_AR1, b_0)\n",
    "print_t_test_results(t_AR1, ols_AR1)"
   ]
  },
  {
   "cell_type": "code",
   "execution_count": 15,
   "metadata": {},
   "outputs": [
    {
     "data": {
      "text/html": [
       "<div>\n",
       "<style scoped>\n",
       "    .dataframe tbody tr th:only-of-type {\n",
       "        vertical-align: middle;\n",
       "    }\n",
       "\n",
       "    .dataframe tbody tr th {\n",
       "        vertical-align: top;\n",
       "    }\n",
       "\n",
       "    .dataframe thead th {\n",
       "        text-align: right;\n",
       "    }\n",
       "</style>\n",
       "<table border=\"1\" class=\"dataframe\">\n",
       "  <thead>\n",
       "    <tr style=\"text-align: right;\">\n",
       "      <th></th>\n",
       "      <th>Name</th>\n",
       "      <th>Value</th>\n",
       "    </tr>\n",
       "  </thead>\n",
       "  <tbody>\n",
       "    <tr>\n",
       "      <th>0</th>\n",
       "      <td>Number of parameters</td>\n",
       "      <td>3</td>\n",
       "    </tr>\n",
       "    <tr>\n",
       "      <th>1</th>\n",
       "      <td>Degrees of freedom for residuals</td>\n",
       "      <td>726</td>\n",
       "    </tr>\n",
       "    <tr>\n",
       "      <th>2</th>\n",
       "      <td>Degrees of freedom for model</td>\n",
       "      <td>2</td>\n",
       "    </tr>\n",
       "    <tr>\n",
       "      <th>3</th>\n",
       "      <td>Maximized log-likelihood function</td>\n",
       "      <td>-52.339</td>\n",
       "    </tr>\n",
       "    <tr>\n",
       "      <th>4</th>\n",
       "      <td>R squared</td>\n",
       "      <td>0.991209</td>\n",
       "    </tr>\n",
       "    <tr>\n",
       "      <th>5</th>\n",
       "      <td>Adjusted R squared</td>\n",
       "      <td>0.991173</td>\n",
       "    </tr>\n",
       "    <tr>\n",
       "      <th>6</th>\n",
       "      <td>PM = 0</td>\n",
       "      <td>True</td>\n",
       "    </tr>\n",
       "    <tr>\n",
       "      <th>7</th>\n",
       "      <td>E(ex) = 0</td>\n",
       "      <td>False</td>\n",
       "    </tr>\n",
       "    <tr>\n",
       "      <th>8</th>\n",
       "      <td>Conditional number for Q</td>\n",
       "      <td>2419.45</td>\n",
       "    </tr>\n",
       "    <tr>\n",
       "      <th>9</th>\n",
       "      <td>Conditional number for X</td>\n",
       "      <td>49.1879</td>\n",
       "    </tr>\n",
       "  </tbody>\n",
       "</table>\n",
       "</div>"
      ],
      "text/plain": [
       "                                Name     Value\n",
       "0               Number of parameters         3\n",
       "1   Degrees of freedom for residuals       726\n",
       "2       Degrees of freedom for model         2\n",
       "3  Maximized log-likelihood function   -52.339\n",
       "4                          R squared  0.991209\n",
       "5                 Adjusted R squared  0.991173\n",
       "6                             PM = 0      True\n",
       "7                          E(ex) = 0     False\n",
       "8           Conditional number for Q   2419.45\n",
       "9           Conditional number for X   49.1879"
      ]
     },
     "metadata": {},
     "output_type": "display_data"
    },
    {
     "data": {
      "text/html": [
       "<div>\n",
       "<style scoped>\n",
       "    .dataframe tbody tr th:only-of-type {\n",
       "        vertical-align: middle;\n",
       "    }\n",
       "\n",
       "    .dataframe tbody tr th {\n",
       "        vertical-align: top;\n",
       "    }\n",
       "\n",
       "    .dataframe thead th {\n",
       "        text-align: right;\n",
       "    }\n",
       "</style>\n",
       "<table border=\"1\" class=\"dataframe\">\n",
       "  <thead>\n",
       "    <tr style=\"text-align: right;\">\n",
       "      <th></th>\n",
       "      <th>Indepent Variable</th>\n",
       "      <th>Coefficient</th>\n",
       "      <th>OLS standard errors</th>\n",
       "      <th>White standard errors</th>\n",
       "    </tr>\n",
       "  </thead>\n",
       "  <tbody>\n",
       "    <tr>\n",
       "      <th>0</th>\n",
       "      <td>mu</td>\n",
       "      <td>0.037</td>\n",
       "      <td>0.023</td>\n",
       "      <td>0.031</td>\n",
       "    </tr>\n",
       "    <tr>\n",
       "      <th>1</th>\n",
       "      <td>Xt-1</td>\n",
       "      <td>1.304</td>\n",
       "      <td>0.035</td>\n",
       "      <td>0.055</td>\n",
       "    </tr>\n",
       "    <tr>\n",
       "      <th>2</th>\n",
       "      <td>Xt-2</td>\n",
       "      <td>-0.310</td>\n",
       "      <td>0.035</td>\n",
       "      <td>0.056</td>\n",
       "    </tr>\n",
       "  </tbody>\n",
       "</table>\n",
       "</div>"
      ],
      "text/plain": [
       "  Indepent Variable  Coefficient  OLS standard errors  White standard errors\n",
       "0                mu        0.037                0.023                  0.031\n",
       "1              Xt-1        1.304                0.035                  0.055\n",
       "2              Xt-2       -0.310                0.035                  0.056"
      ]
     },
     "metadata": {},
     "output_type": "display_data"
    },
    {
     "data": {
      "text/html": [
       "<div>\n",
       "<style scoped>\n",
       "    .dataframe tbody tr th:only-of-type {\n",
       "        vertical-align: middle;\n",
       "    }\n",
       "\n",
       "    .dataframe tbody tr th {\n",
       "        vertical-align: top;\n",
       "    }\n",
       "\n",
       "    .dataframe thead th {\n",
       "        text-align: right;\n",
       "    }\n",
       "</style>\n",
       "<table border=\"1\" class=\"dataframe\">\n",
       "  <thead>\n",
       "    <tr style=\"text-align: right;\">\n",
       "      <th></th>\n",
       "      <th>Null hypothesis</th>\n",
       "      <th>Indepent Variable</th>\n",
       "      <th>T-statistics</th>\n",
       "      <th>P-values</th>\n",
       "      <th>0.01</th>\n",
       "      <th>0.05</th>\n",
       "      <th>0.1</th>\n",
       "    </tr>\n",
       "  </thead>\n",
       "  <tbody>\n",
       "    <tr>\n",
       "      <th>0</th>\n",
       "      <td>0</td>\n",
       "      <td>mu</td>\n",
       "      <td>1.186</td>\n",
       "      <td>0.236</td>\n",
       "      <td>Not rejected</td>\n",
       "      <td>Not rejected</td>\n",
       "      <td>Not rejected</td>\n",
       "    </tr>\n",
       "    <tr>\n",
       "      <th>1</th>\n",
       "      <td>0</td>\n",
       "      <td>Xt-1</td>\n",
       "      <td>23.606</td>\n",
       "      <td>0.000</td>\n",
       "      <td>Rejected</td>\n",
       "      <td>Rejected</td>\n",
       "      <td>Rejected</td>\n",
       "    </tr>\n",
       "    <tr>\n",
       "      <th>2</th>\n",
       "      <td>0</td>\n",
       "      <td>Xt-2</td>\n",
       "      <td>-5.493</td>\n",
       "      <td>0.000</td>\n",
       "      <td>Rejected</td>\n",
       "      <td>Rejected</td>\n",
       "      <td>Rejected</td>\n",
       "    </tr>\n",
       "  </tbody>\n",
       "</table>\n",
       "</div>"
      ],
      "text/plain": [
       "   Null hypothesis Indepent Variable  T-statistics  P-values          0.01  \\\n",
       "0                0                mu         1.186     0.236  Not rejected   \n",
       "1                0              Xt-1        23.606     0.000      Rejected   \n",
       "2                0              Xt-2        -5.493     0.000      Rejected   \n",
       "\n",
       "           0.05           0.1  \n",
       "0  Not rejected  Not rejected  \n",
       "1      Rejected      Rejected  \n",
       "2      Rejected      Rejected  "
      ]
     },
     "metadata": {},
     "output_type": "display_data"
    }
   ],
   "source": [
    "print_ols_results(ols_AR2)\n",
    "b_0 = [0, 0, 0]\n",
    "t_AR2 = t_test(ols_AR2, b_0)\n",
    "print_t_test_results(t_AR2, ols_AR2)"
   ]
  },
  {
   "cell_type": "markdown",
   "metadata": {},
   "source": [
    "#### (e)"
   ]
  },
  {
   "cell_type": "markdown",
   "metadata": {},
   "source": [
    "For AR(1), the root is 1/phi1 = 1/0.995 = 1.005"
   ]
  },
  {
   "cell_type": "code",
   "execution_count": 16,
   "metadata": {},
   "outputs": [
    {
     "name": "stdout",
     "output_type": "stream",
     "text": [
      "L1: 3.1976445294781954\n",
      "L2: 1.008807083425031\n"
     ]
    }
   ],
   "source": [
    "L1 = (-(1.304/(-0.310))+np.sqrt((1.304/(-0.310))**2+4/(-0.310)))/2\n",
    "L2 = (-(1.304/(-0.310))-np.sqrt((1.304/(-0.310))**2+4/(-0.310)))/2\n",
    "print(\"L1:\", L1)\n",
    "print(\"L2:\", L2)"
   ]
  },
  {
   "cell_type": "markdown",
   "metadata": {},
   "source": [
    "For AR(2), the roots are 3.1976 and 1.0088."
   ]
  },
  {
   "cell_type": "markdown",
   "metadata": {},
   "source": [
    "#### (f)"
   ]
  },
  {
   "cell_type": "code",
   "execution_count": 17,
   "metadata": {},
   "outputs": [],
   "source": [
    "def IRF_AR1(phi, nlags):\n",
    "    IRF_list = []\n",
    "    for i in range(nlags+1):\n",
    "        IRF = phi**i\n",
    "        IRF_list.append(IRF)\n",
    "    return np.asarray(IRF_list)"
   ]
  },
  {
   "cell_type": "code",
   "execution_count": 18,
   "metadata": {},
   "outputs": [],
   "source": [
    "def IRF_AR2(phi1, phi2, nlags):\n",
    "    q0 = 1\n",
    "    q1 = phi1\n",
    "    qim2 = q0\n",
    "    qim1 = q1\n",
    "    IRF_list = [q0, q1]\n",
    "    for i in range(2, nlags+1):\n",
    "        qi = qim2*phi2 + qim1*phi1\n",
    "        qim2 = qim1\n",
    "        qim1 = qi\n",
    "        IRF_list.append(qi)\n",
    "    return np.asarray(IRF_list)"
   ]
  },
  {
   "cell_type": "code",
   "execution_count": 19,
   "metadata": {},
   "outputs": [],
   "source": [
    "def plot_IRF(IRF, nlags):\n",
    "    fig, ax = plt.subplots()\n",
    "    x = np.arange(0, nlags+1)\n",
    "    ax.bar(x, IRF, width=0.08)\n",
    "    ax.set_xlabel(\"Number of lags\")\n",
    "    ax.set_ylabel(\"IRF\")"
   ]
  },
  {
   "cell_type": "code",
   "execution_count": 20,
   "metadata": {
    "scrolled": true
   },
   "outputs": [
    {
     "data": {
      "image/png": "[encoded data removed]",
      "text/plain": [
       "<Figure size 432x288 with 1 Axes>"
      ]
     },
     "metadata": {
      "needs_background": "light"
     },
     "output_type": "display_data"
    }
   ],
   "source": [
    "IRF1 = IRF_AR1(0.995, 10)\n",
    "plot_IRF(IRF1, 10)"
   ]
  },
  {
   "cell_type": "code",
   "execution_count": 21,
   "metadata": {
    "scrolled": true
   },
   "outputs": [
    {
     "data": {
      "image/png": "[encoded data removed]",
      "text/plain": [
       "<Figure size 432x288 with 1 Axes>"
      ]
     },
     "metadata": {
      "needs_background": "light"
     },
     "output_type": "display_data"
    }
   ],
   "source": [
    "IRF2 = IRF_AR2(1.304, -0.31, 10)\n",
    "plot_IRF(IRF2, 10)"
   ]
  },
  {
   "cell_type": "markdown",
   "metadata": {},
   "source": [
    "##### (g)"
   ]
  },
  {
   "cell_type": "markdown",
   "metadata": {},
   "source": [
    "Both models do not work well because of non-stationarity."
   ]
  },
  {
   "cell_type": "markdown",
   "metadata": {},
   "source": [
    "## Q4."
   ]
  },
  {
   "cell_type": "markdown",
   "metadata": {},
   "source": [
    "##### (a)"
   ]
  },
  {
   "cell_type": "code",
   "execution_count": 22,
   "metadata": {},
   "outputs": [],
   "source": [
    "def ADF(data, nlags):\n",
    "    '''Regression without constanta and trend'''\n",
    "    delta_zt = data.diff(periods=1).dropna()\n",
    "    zt_m1 = data.shift(periods=1).dropna()\n",
    "    df = zt_m1\n",
    "    for i in range(1, nlags+1):\n",
    "        delta_zt_mi = delta_zt.shift(periods=i)\n",
    "        df = pd.concat([df, delta_zt_mi], axis=1)\n",
    "    df = df.dropna()\n",
    "    ols_ADF = ols(delta_zt[nlags:], df, intercept=False, White=False)\n",
    "    ADF = ols_ADF[\"Beta\"].item(0)/ols_ADF[\"Standard errors\"].item(0)\n",
    "    return ADF"
   ]
  },
  {
   "cell_type": "code",
   "execution_count": 23,
   "metadata": {
    "scrolled": true
   },
   "outputs": [
    {
     "data": {
      "text/html": [
       "<div>\n",
       "<style scoped>\n",
       "    .dataframe tbody tr th:only-of-type {\n",
       "        vertical-align: middle;\n",
       "    }\n",
       "\n",
       "    .dataframe tbody tr th {\n",
       "        vertical-align: top;\n",
       "    }\n",
       "\n",
       "    .dataframe thead th {\n",
       "        text-align: right;\n",
       "    }\n",
       "</style>\n",
       "<table border=\"1\" class=\"dataframe\">\n",
       "  <thead>\n",
       "    <tr style=\"text-align: right;\">\n",
       "      <th></th>\n",
       "      <th>Number of Lags</th>\n",
       "      <th>ADF Test</th>\n",
       "    </tr>\n",
       "  </thead>\n",
       "  <tbody>\n",
       "    <tr>\n",
       "      <th>0</th>\n",
       "      <td>1</td>\n",
       "      <td>-0.777741</td>\n",
       "    </tr>\n",
       "    <tr>\n",
       "      <th>1</th>\n",
       "      <td>2</td>\n",
       "      <td>-0.625254</td>\n",
       "    </tr>\n",
       "    <tr>\n",
       "      <th>2</th>\n",
       "      <td>3</td>\n",
       "      <td>-0.665222</td>\n",
       "    </tr>\n",
       "  </tbody>\n",
       "</table>\n",
       "</div>"
      ],
      "text/plain": [
       "   Number of Lags  ADF Test\n",
       "0               1 -0.777741\n",
       "1               2 -0.625254\n",
       "2               3 -0.665222"
      ]
     },
     "metadata": {},
     "output_type": "display_data"
    }
   ],
   "source": [
    "zt = df[\"VALUE\"]\n",
    "ADF_Tbill_1 = ADF(zt, 1)\n",
    "ADF_Tbill_2 = ADF(zt, 2)\n",
    "ADF_Tbill_3 = ADF(zt, 3)\n",
    "ADF_Tbill_list = [ADF_Tbill_1, ADF_Tbill_2, ADF_Tbill_3]\n",
    "p = [1,2,3]\n",
    "ADF_Tbill_df = pd.DataFrame({\"Number of Lags\": p, \"ADF Test\": ADF_Tbill_list})\n",
    "display(ADF_Tbill_df)"
   ]
  },
  {
   "cell_type": "markdown",
   "metadata": {},
   "source": [
    "The critical value at a 5% significance level is -1.9414. Thus, we fail to reject the null hypothesis, and we conclude that T-bill data is non-stationary."
   ]
  },
  {
   "cell_type": "markdown",
   "metadata": {},
   "source": [
    "##### (b)"
   ]
  },
  {
   "cell_type": "code",
   "execution_count": 24,
   "metadata": {},
   "outputs": [
    {
     "data": {
      "text/html": [
       "<div>\n",
       "<style scoped>\n",
       "    .dataframe tbody tr th:only-of-type {\n",
       "        vertical-align: middle;\n",
       "    }\n",
       "\n",
       "    .dataframe tbody tr th {\n",
       "        vertical-align: top;\n",
       "    }\n",
       "\n",
       "    .dataframe thead th {\n",
       "        text-align: right;\n",
       "    }\n",
       "</style>\n",
       "<table border=\"1\" class=\"dataframe\">\n",
       "  <thead>\n",
       "    <tr style=\"text-align: right;\">\n",
       "      <th></th>\n",
       "      <th>Number of Lags</th>\n",
       "      <th>ADF Test</th>\n",
       "    </tr>\n",
       "  </thead>\n",
       "  <tbody>\n",
       "    <tr>\n",
       "      <th>0</th>\n",
       "      <td>1</td>\n",
       "      <td>-19.788094</td>\n",
       "    </tr>\n",
       "    <tr>\n",
       "      <th>1</th>\n",
       "      <td>2</td>\n",
       "      <td>-14.688811</td>\n",
       "    </tr>\n",
       "    <tr>\n",
       "      <th>2</th>\n",
       "      <td>3</td>\n",
       "      <td>-13.346075</td>\n",
       "    </tr>\n",
       "  </tbody>\n",
       "</table>\n",
       "</div>"
      ],
      "text/plain": [
       "   Number of Lags   ADF Test\n",
       "0               1 -19.788094\n",
       "1               2 -14.688811\n",
       "2               3 -13.346075"
      ]
     },
     "metadata": {},
     "output_type": "display_data"
    }
   ],
   "source": [
    "delta_zt = zt.diff(1).dropna()\n",
    "ADF_dTbill_1 = ADF(delta_zt, 1)\n",
    "ADF_dTbill_2 = ADF(delta_zt, 2)\n",
    "ADF_dTbill_3 = ADF(delta_zt, 3)\n",
    "ADF_dTbill_list = [ADF_dTbill_1, ADF_dTbill_2, ADF_dTbill_3]\n",
    "p = [1,2,3]\n",
    "ADF_dTbill_df = pd.DataFrame({\"Number of Lags\": p, \"ADF Test\": ADF_dTbill_list})\n",
    "display(ADF_dTbill_df)"
   ]
  },
  {
   "cell_type": "markdown",
   "metadata": {},
   "source": [
    "By taking first difference, the ADF test showed that delta_zt is stationary"
   ]
  },
  {
   "cell_type": "markdown",
   "metadata": {},
   "source": [
    "##### (c)"
   ]
  },
  {
   "cell_type": "code",
   "execution_count": 25,
   "metadata": {},
   "outputs": [
    {
     "data": {
      "text/html": [
       "<div>\n",
       "<style scoped>\n",
       "    .dataframe tbody tr th:only-of-type {\n",
       "        vertical-align: middle;\n",
       "    }\n",
       "\n",
       "    .dataframe tbody tr th {\n",
       "        vertical-align: top;\n",
       "    }\n",
       "\n",
       "    .dataframe thead th {\n",
       "        text-align: right;\n",
       "    }\n",
       "</style>\n",
       "<table border=\"1\" class=\"dataframe\">\n",
       "  <thead>\n",
       "    <tr style=\"text-align: right;\">\n",
       "      <th></th>\n",
       "      <th>IC Type</th>\n",
       "      <th>Value</th>\n",
       "    </tr>\n",
       "  </thead>\n",
       "  <tbody>\n",
       "    <tr>\n",
       "      <th>0</th>\n",
       "      <td>AIC</td>\n",
       "      <td>0.2495</td>\n",
       "    </tr>\n",
       "    <tr>\n",
       "      <th>1</th>\n",
       "      <td>BIC</td>\n",
       "      <td>0.2802</td>\n",
       "    </tr>\n",
       "    <tr>\n",
       "      <th>2</th>\n",
       "      <td>Hannah-Quinn IC</td>\n",
       "      <td>0.2544</td>\n",
       "    </tr>\n",
       "  </tbody>\n",
       "</table>\n",
       "</div>"
      ],
      "text/plain": [
       "           IC Type   Value\n",
       "0              AIC  0.2495\n",
       "1              BIC  0.2802\n",
       "2  Hannah-Quinn IC  0.2544"
      ]
     },
     "metadata": {},
     "output_type": "display_data"
    }
   ],
   "source": [
    "IC_AR1 = IC(ols_AR1)\n",
    "df_IC_AR1 = pd.DataFrame(data = IC_AR1.items(), columns=[\"IC Type\", \"Value\"])\n",
    "df_IC_AR1 = df_IC_AR1.round(4)\n",
    "display(df_IC_AR1)"
   ]
  },
  {
   "cell_type": "code",
   "execution_count": 26,
   "metadata": {
    "scrolled": true
   },
   "outputs": [
    {
     "data": {
      "text/html": [
       "<div>\n",
       "<style scoped>\n",
       "    .dataframe tbody tr th:only-of-type {\n",
       "        vertical-align: middle;\n",
       "    }\n",
       "\n",
       "    .dataframe tbody tr th {\n",
       "        vertical-align: top;\n",
       "    }\n",
       "\n",
       "    .dataframe thead th {\n",
       "        text-align: right;\n",
       "    }\n",
       "</style>\n",
       "<table border=\"1\" class=\"dataframe\">\n",
       "  <thead>\n",
       "    <tr style=\"text-align: right;\">\n",
       "      <th></th>\n",
       "      <th>IC Type</th>\n",
       "      <th>Value</th>\n",
       "    </tr>\n",
       "  </thead>\n",
       "  <tbody>\n",
       "    <tr>\n",
       "      <th>0</th>\n",
       "      <td>AIC</td>\n",
       "      <td>0.1518</td>\n",
       "    </tr>\n",
       "    <tr>\n",
       "      <th>1</th>\n",
       "      <td>BIC</td>\n",
       "      <td>0.1978</td>\n",
       "    </tr>\n",
       "    <tr>\n",
       "      <th>2</th>\n",
       "      <td>Hannah-Quinn IC</td>\n",
       "      <td>0.1591</td>\n",
       "    </tr>\n",
       "  </tbody>\n",
       "</table>\n",
       "</div>"
      ],
      "text/plain": [
       "           IC Type   Value\n",
       "0              AIC  0.1518\n",
       "1              BIC  0.1978\n",
       "2  Hannah-Quinn IC  0.1591"
      ]
     },
     "metadata": {},
     "output_type": "display_data"
    }
   ],
   "source": [
    "IC_AR2 = IC(ols_AR2)\n",
    "df_IC_AR2 = pd.DataFrame(data = IC_AR2.items(), columns=[\"IC Type\", \"Value\"])\n",
    "df_IC_AR2 = df_IC_AR2.round(4)\n",
    "display(df_IC_AR2)"
   ]
  },
  {
   "cell_type": "code",
   "execution_count": 27,
   "metadata": {
    "scrolled": false
   },
   "outputs": [
    {
     "data": {
      "text/html": [
       "<div>\n",
       "<style scoped>\n",
       "    .dataframe tbody tr th:only-of-type {\n",
       "        vertical-align: middle;\n",
       "    }\n",
       "\n",
       "    .dataframe tbody tr th {\n",
       "        vertical-align: top;\n",
       "    }\n",
       "\n",
       "    .dataframe thead th {\n",
       "        text-align: right;\n",
       "    }\n",
       "</style>\n",
       "<table border=\"1\" class=\"dataframe\">\n",
       "  <thead>\n",
       "    <tr style=\"text-align: right;\">\n",
       "      <th></th>\n",
       "      <th>Name</th>\n",
       "      <th>Value</th>\n",
       "    </tr>\n",
       "  </thead>\n",
       "  <tbody>\n",
       "    <tr>\n",
       "      <th>0</th>\n",
       "      <td>Number of parameters</td>\n",
       "      <td>4</td>\n",
       "    </tr>\n",
       "    <tr>\n",
       "      <th>1</th>\n",
       "      <td>Degrees of freedom for residuals</td>\n",
       "      <td>724</td>\n",
       "    </tr>\n",
       "    <tr>\n",
       "      <th>2</th>\n",
       "      <td>Degrees of freedom for model</td>\n",
       "      <td>3</td>\n",
       "    </tr>\n",
       "    <tr>\n",
       "      <th>3</th>\n",
       "      <td>Maximized log-likelihood function</td>\n",
       "      <td>-35.659</td>\n",
       "    </tr>\n",
       "    <tr>\n",
       "      <th>4</th>\n",
       "      <td>R squared</td>\n",
       "      <td>0.991599</td>\n",
       "    </tr>\n",
       "    <tr>\n",
       "      <th>5</th>\n",
       "      <td>Adjusted R squared</td>\n",
       "      <td>0.991553</td>\n",
       "    </tr>\n",
       "    <tr>\n",
       "      <th>6</th>\n",
       "      <td>PM = 0</td>\n",
       "      <td>True</td>\n",
       "    </tr>\n",
       "    <tr>\n",
       "      <th>7</th>\n",
       "      <td>E(ex) = 0</td>\n",
       "      <td>True</td>\n",
       "    </tr>\n",
       "    <tr>\n",
       "      <th>8</th>\n",
       "      <td>Conditional number for Q</td>\n",
       "      <td>7845.45</td>\n",
       "    </tr>\n",
       "    <tr>\n",
       "      <th>9</th>\n",
       "      <td>Conditional number for X</td>\n",
       "      <td>88.5746</td>\n",
       "    </tr>\n",
       "  </tbody>\n",
       "</table>\n",
       "</div>"
      ],
      "text/plain": [
       "                                Name     Value\n",
       "0               Number of parameters         4\n",
       "1   Degrees of freedom for residuals       724\n",
       "2       Degrees of freedom for model         3\n",
       "3  Maximized log-likelihood function   -35.659\n",
       "4                          R squared  0.991599\n",
       "5                 Adjusted R squared  0.991553\n",
       "6                             PM = 0      True\n",
       "7                          E(ex) = 0      True\n",
       "8           Conditional number for Q   7845.45\n",
       "9           Conditional number for X   88.5746"
      ]
     },
     "metadata": {},
     "output_type": "display_data"
    },
    {
     "data": {
      "text/html": [
       "<div>\n",
       "<style scoped>\n",
       "    .dataframe tbody tr th:only-of-type {\n",
       "        vertical-align: middle;\n",
       "    }\n",
       "\n",
       "    .dataframe tbody tr th {\n",
       "        vertical-align: top;\n",
       "    }\n",
       "\n",
       "    .dataframe thead th {\n",
       "        text-align: right;\n",
       "    }\n",
       "</style>\n",
       "<table border=\"1\" class=\"dataframe\">\n",
       "  <thead>\n",
       "    <tr style=\"text-align: right;\">\n",
       "      <th></th>\n",
       "      <th>Indepent Variable</th>\n",
       "      <th>Coefficient</th>\n",
       "      <th>OLS standard errors</th>\n",
       "      <th>White standard errors</th>\n",
       "    </tr>\n",
       "  </thead>\n",
       "  <tbody>\n",
       "    <tr>\n",
       "      <th>0</th>\n",
       "      <td>mu</td>\n",
       "      <td>0.029</td>\n",
       "      <td>0.023</td>\n",
       "      <td>0.030</td>\n",
       "    </tr>\n",
       "    <tr>\n",
       "      <th>1</th>\n",
       "      <td>Xt-1</td>\n",
       "      <td>1.370</td>\n",
       "      <td>0.036</td>\n",
       "      <td>0.059</td>\n",
       "    </tr>\n",
       "    <tr>\n",
       "      <th>2</th>\n",
       "      <td>Xt-2</td>\n",
       "      <td>-0.589</td>\n",
       "      <td>0.059</td>\n",
       "      <td>0.100</td>\n",
       "    </tr>\n",
       "    <tr>\n",
       "      <th>3</th>\n",
       "      <td>Xt-3</td>\n",
       "      <td>0.214</td>\n",
       "      <td>0.036</td>\n",
       "      <td>0.059</td>\n",
       "    </tr>\n",
       "  </tbody>\n",
       "</table>\n",
       "</div>"
      ],
      "text/plain": [
       "  Indepent Variable  Coefficient  OLS standard errors  White standard errors\n",
       "0                mu        0.029                0.023                  0.030\n",
       "1              Xt-1        1.370                0.036                  0.059\n",
       "2              Xt-2       -0.589                0.059                  0.100\n",
       "3              Xt-3        0.214                0.036                  0.059"
      ]
     },
     "metadata": {},
     "output_type": "display_data"
    },
    {
     "data": {
      "text/html": [
       "<div>\n",
       "<style scoped>\n",
       "    .dataframe tbody tr th:only-of-type {\n",
       "        vertical-align: middle;\n",
       "    }\n",
       "\n",
       "    .dataframe tbody tr th {\n",
       "        vertical-align: top;\n",
       "    }\n",
       "\n",
       "    .dataframe thead th {\n",
       "        text-align: right;\n",
       "    }\n",
       "</style>\n",
       "<table border=\"1\" class=\"dataframe\">\n",
       "  <thead>\n",
       "    <tr style=\"text-align: right;\">\n",
       "      <th></th>\n",
       "      <th>Null hypothesis</th>\n",
       "      <th>Indepent Variable</th>\n",
       "      <th>T-statistics</th>\n",
       "      <th>P-values</th>\n",
       "      <th>0.01</th>\n",
       "      <th>0.05</th>\n",
       "      <th>0.1</th>\n",
       "    </tr>\n",
       "  </thead>\n",
       "  <tbody>\n",
       "    <tr>\n",
       "      <th>0</th>\n",
       "      <td>0</td>\n",
       "      <td>mu</td>\n",
       "      <td>0.967</td>\n",
       "      <td>0.334</td>\n",
       "      <td>Not rejected</td>\n",
       "      <td>Not rejected</td>\n",
       "      <td>Not rejected</td>\n",
       "    </tr>\n",
       "    <tr>\n",
       "      <th>1</th>\n",
       "      <td>0</td>\n",
       "      <td>Xt-1</td>\n",
       "      <td>23.039</td>\n",
       "      <td>0.000</td>\n",
       "      <td>Rejected</td>\n",
       "      <td>Rejected</td>\n",
       "      <td>Rejected</td>\n",
       "    </tr>\n",
       "    <tr>\n",
       "      <th>2</th>\n",
       "      <td>0</td>\n",
       "      <td>Xt-2</td>\n",
       "      <td>-5.874</td>\n",
       "      <td>0.000</td>\n",
       "      <td>Rejected</td>\n",
       "      <td>Rejected</td>\n",
       "      <td>Rejected</td>\n",
       "    </tr>\n",
       "    <tr>\n",
       "      <th>3</th>\n",
       "      <td>0</td>\n",
       "      <td>Xt-3</td>\n",
       "      <td>3.621</td>\n",
       "      <td>0.000</td>\n",
       "      <td>Rejected</td>\n",
       "      <td>Rejected</td>\n",
       "      <td>Rejected</td>\n",
       "    </tr>\n",
       "  </tbody>\n",
       "</table>\n",
       "</div>"
      ],
      "text/plain": [
       "   Null hypothesis Indepent Variable  T-statistics  P-values          0.01  \\\n",
       "0                0                mu         0.967     0.334  Not rejected   \n",
       "1                0              Xt-1        23.039     0.000      Rejected   \n",
       "2                0              Xt-2        -5.874     0.000      Rejected   \n",
       "3                0              Xt-3         3.621     0.000      Rejected   \n",
       "\n",
       "           0.05           0.1  \n",
       "0  Not rejected  Not rejected  \n",
       "1      Rejected      Rejected  \n",
       "2      Rejected      Rejected  \n",
       "3      Rejected      Rejected  "
      ]
     },
     "metadata": {},
     "output_type": "display_data"
    },
    {
     "data": {
      "text/html": [
       "<div>\n",
       "<style scoped>\n",
       "    .dataframe tbody tr th:only-of-type {\n",
       "        vertical-align: middle;\n",
       "    }\n",
       "\n",
       "    .dataframe tbody tr th {\n",
       "        vertical-align: top;\n",
       "    }\n",
       "\n",
       "    .dataframe thead th {\n",
       "        text-align: right;\n",
       "    }\n",
       "</style>\n",
       "<table border=\"1\" class=\"dataframe\">\n",
       "  <thead>\n",
       "    <tr style=\"text-align: right;\">\n",
       "      <th></th>\n",
       "      <th>IC Type</th>\n",
       "      <th>Value</th>\n",
       "    </tr>\n",
       "  </thead>\n",
       "  <tbody>\n",
       "    <tr>\n",
       "      <th>0</th>\n",
       "      <td>AIC</td>\n",
       "      <td>0.1090</td>\n",
       "    </tr>\n",
       "    <tr>\n",
       "      <th>1</th>\n",
       "      <td>BIC</td>\n",
       "      <td>0.1704</td>\n",
       "    </tr>\n",
       "    <tr>\n",
       "      <th>2</th>\n",
       "      <td>Hannah-Quinn IC</td>\n",
       "      <td>0.1187</td>\n",
       "    </tr>\n",
       "  </tbody>\n",
       "</table>\n",
       "</div>"
      ],
      "text/plain": [
       "           IC Type   Value\n",
       "0              AIC  0.1090\n",
       "1              BIC  0.1704\n",
       "2  Hannah-Quinn IC  0.1187"
      ]
     },
     "metadata": {},
     "output_type": "display_data"
    }
   ],
   "source": [
    "x = df[\"VALUE\"]\n",
    "x_lag1 = x.shift(periods=1).dropna()\n",
    "x_lag2 = x.shift(periods=2).dropna()\n",
    "x_lag3 = x.shift(periods=3).dropna()\n",
    "x_lag123 = pd.concat([x_lag1[2:], x_lag2[1:], x_lag3], axis=1)\n",
    "ols_AR3 = ols(x[3:], x_lag123, White=True, intercept=True, var_names=[\"mu\", \"Xt-1\", \"Xt-2\", \"Xt-3\"])\n",
    "IC_AR3 = IC(ols_AR3)\n",
    "df_IC_AR3 = pd.DataFrame(data = IC_AR3.items(), columns=[\"IC Type\", \"Value\"])\n",
    "df_IC_AR3 = df_IC_AR3.round(4)\n",
    "print_ols_results(ols_AR3)\n",
    "b_0 = [0, 0, 0, 0]\n",
    "t_AR3 = t_test(ols_AR3, b_0)\n",
    "print_t_test_results(t_AR3, ols_AR3)\n",
    "display(df_IC_AR3)"
   ]
  },
  {
   "cell_type": "code",
   "execution_count": 28,
   "metadata": {},
   "outputs": [
    {
     "data": {
      "text/html": [
       "<div>\n",
       "<style scoped>\n",
       "    .dataframe tbody tr th:only-of-type {\n",
       "        vertical-align: middle;\n",
       "    }\n",
       "\n",
       "    .dataframe tbody tr th {\n",
       "        vertical-align: top;\n",
       "    }\n",
       "\n",
       "    .dataframe thead th {\n",
       "        text-align: right;\n",
       "    }\n",
       "</style>\n",
       "<table border=\"1\" class=\"dataframe\">\n",
       "  <thead>\n",
       "    <tr style=\"text-align: right;\">\n",
       "      <th></th>\n",
       "      <th>Name</th>\n",
       "      <th>Value</th>\n",
       "    </tr>\n",
       "  </thead>\n",
       "  <tbody>\n",
       "    <tr>\n",
       "      <th>0</th>\n",
       "      <td>Number of parameters</td>\n",
       "      <td>5</td>\n",
       "    </tr>\n",
       "    <tr>\n",
       "      <th>1</th>\n",
       "      <td>Degrees of freedom for residuals</td>\n",
       "      <td>722</td>\n",
       "    </tr>\n",
       "    <tr>\n",
       "      <th>2</th>\n",
       "      <td>Degrees of freedom for model</td>\n",
       "      <td>4</td>\n",
       "    </tr>\n",
       "    <tr>\n",
       "      <th>3</th>\n",
       "      <td>Maximized log-likelihood function</td>\n",
       "      <td>-33.3423</td>\n",
       "    </tr>\n",
       "    <tr>\n",
       "      <th>4</th>\n",
       "      <td>R squared</td>\n",
       "      <td>0.991648</td>\n",
       "    </tr>\n",
       "    <tr>\n",
       "      <th>5</th>\n",
       "      <td>Adjusted R squared</td>\n",
       "      <td>0.99159</td>\n",
       "    </tr>\n",
       "    <tr>\n",
       "      <th>6</th>\n",
       "      <td>PM = 0</td>\n",
       "      <td>True</td>\n",
       "    </tr>\n",
       "    <tr>\n",
       "      <th>7</th>\n",
       "      <td>E(ex) = 0</td>\n",
       "      <td>False</td>\n",
       "    </tr>\n",
       "    <tr>\n",
       "      <th>8</th>\n",
       "      <td>Conditional number for Q</td>\n",
       "      <td>16035.4</td>\n",
       "    </tr>\n",
       "    <tr>\n",
       "      <th>9</th>\n",
       "      <td>Conditional number for X</td>\n",
       "      <td>126.631</td>\n",
       "    </tr>\n",
       "  </tbody>\n",
       "</table>\n",
       "</div>"
      ],
      "text/plain": [
       "                                Name     Value\n",
       "0               Number of parameters         5\n",
       "1   Degrees of freedom for residuals       722\n",
       "2       Degrees of freedom for model         4\n",
       "3  Maximized log-likelihood function  -33.3423\n",
       "4                          R squared  0.991648\n",
       "5                 Adjusted R squared   0.99159\n",
       "6                             PM = 0      True\n",
       "7                          E(ex) = 0     False\n",
       "8           Conditional number for Q   16035.4\n",
       "9           Conditional number for X   126.631"
      ]
     },
     "metadata": {},
     "output_type": "display_data"
    },
    {
     "data": {
      "text/html": [
       "<div>\n",
       "<style scoped>\n",
       "    .dataframe tbody tr th:only-of-type {\n",
       "        vertical-align: middle;\n",
       "    }\n",
       "\n",
       "    .dataframe tbody tr th {\n",
       "        vertical-align: top;\n",
       "    }\n",
       "\n",
       "    .dataframe thead th {\n",
       "        text-align: right;\n",
       "    }\n",
       "</style>\n",
       "<table border=\"1\" class=\"dataframe\">\n",
       "  <thead>\n",
       "    <tr style=\"text-align: right;\">\n",
       "      <th></th>\n",
       "      <th>Indepent Variable</th>\n",
       "      <th>Coefficient</th>\n",
       "      <th>OLS standard errors</th>\n",
       "      <th>White standard errors</th>\n",
       "    </tr>\n",
       "  </thead>\n",
       "  <tbody>\n",
       "    <tr>\n",
       "      <th>0</th>\n",
       "      <td>mu</td>\n",
       "      <td>0.033</td>\n",
       "      <td>0.023</td>\n",
       "      <td>0.030</td>\n",
       "    </tr>\n",
       "    <tr>\n",
       "      <th>1</th>\n",
       "      <td>Xt-1</td>\n",
       "      <td>1.388</td>\n",
       "      <td>0.037</td>\n",
       "      <td>0.060</td>\n",
       "    </tr>\n",
       "    <tr>\n",
       "      <th>2</th>\n",
       "      <td>Xt-2</td>\n",
       "      <td>-0.638</td>\n",
       "      <td>0.062</td>\n",
       "      <td>0.101</td>\n",
       "    </tr>\n",
       "    <tr>\n",
       "      <th>3</th>\n",
       "      <td>Xt-3</td>\n",
       "      <td>0.328</td>\n",
       "      <td>0.062</td>\n",
       "      <td>0.091</td>\n",
       "    </tr>\n",
       "    <tr>\n",
       "      <th>4</th>\n",
       "      <td>Xt-4</td>\n",
       "      <td>-0.084</td>\n",
       "      <td>0.037</td>\n",
       "      <td>0.055</td>\n",
       "    </tr>\n",
       "  </tbody>\n",
       "</table>\n",
       "</div>"
      ],
      "text/plain": [
       "  Indepent Variable  Coefficient  OLS standard errors  White standard errors\n",
       "0                mu        0.033                0.023                  0.030\n",
       "1              Xt-1        1.388                0.037                  0.060\n",
       "2              Xt-2       -0.638                0.062                  0.101\n",
       "3              Xt-3        0.328                0.062                  0.091\n",
       "4              Xt-4       -0.084                0.037                  0.055"
      ]
     },
     "metadata": {},
     "output_type": "display_data"
    },
    {
     "data": {
      "text/html": [
       "<div>\n",
       "<style scoped>\n",
       "    .dataframe tbody tr th:only-of-type {\n",
       "        vertical-align: middle;\n",
       "    }\n",
       "\n",
       "    .dataframe tbody tr th {\n",
       "        vertical-align: top;\n",
       "    }\n",
       "\n",
       "    .dataframe thead th {\n",
       "        text-align: right;\n",
       "    }\n",
       "</style>\n",
       "<table border=\"1\" class=\"dataframe\">\n",
       "  <thead>\n",
       "    <tr style=\"text-align: right;\">\n",
       "      <th></th>\n",
       "      <th>Null hypothesis</th>\n",
       "      <th>Indepent Variable</th>\n",
       "      <th>T-statistics</th>\n",
       "      <th>P-values</th>\n",
       "      <th>0.01</th>\n",
       "      <th>0.05</th>\n",
       "      <th>0.1</th>\n",
       "    </tr>\n",
       "  </thead>\n",
       "  <tbody>\n",
       "    <tr>\n",
       "      <th>0</th>\n",
       "      <td>0</td>\n",
       "      <td>mu</td>\n",
       "      <td>1.088</td>\n",
       "      <td>0.277</td>\n",
       "      <td>Not rejected</td>\n",
       "      <td>Not rejected</td>\n",
       "      <td>Not rejected</td>\n",
       "    </tr>\n",
       "    <tr>\n",
       "      <th>1</th>\n",
       "      <td>0</td>\n",
       "      <td>Xt-1</td>\n",
       "      <td>23.184</td>\n",
       "      <td>0.000</td>\n",
       "      <td>Rejected</td>\n",
       "      <td>Rejected</td>\n",
       "      <td>Rejected</td>\n",
       "    </tr>\n",
       "    <tr>\n",
       "      <th>2</th>\n",
       "      <td>0</td>\n",
       "      <td>Xt-2</td>\n",
       "      <td>-6.289</td>\n",
       "      <td>0.000</td>\n",
       "      <td>Rejected</td>\n",
       "      <td>Rejected</td>\n",
       "      <td>Rejected</td>\n",
       "    </tr>\n",
       "    <tr>\n",
       "      <th>3</th>\n",
       "      <td>0</td>\n",
       "      <td>Xt-3</td>\n",
       "      <td>3.601</td>\n",
       "      <td>0.000</td>\n",
       "      <td>Rejected</td>\n",
       "      <td>Rejected</td>\n",
       "      <td>Rejected</td>\n",
       "    </tr>\n",
       "    <tr>\n",
       "      <th>4</th>\n",
       "      <td>0</td>\n",
       "      <td>Xt-4</td>\n",
       "      <td>-1.509</td>\n",
       "      <td>0.132</td>\n",
       "      <td>Not rejected</td>\n",
       "      <td>Not rejected</td>\n",
       "      <td>Not rejected</td>\n",
       "    </tr>\n",
       "  </tbody>\n",
       "</table>\n",
       "</div>"
      ],
      "text/plain": [
       "   Null hypothesis Indepent Variable  T-statistics  P-values          0.01  \\\n",
       "0                0                mu         1.088     0.277  Not rejected   \n",
       "1                0              Xt-1        23.184     0.000      Rejected   \n",
       "2                0              Xt-2        -6.289     0.000      Rejected   \n",
       "3                0              Xt-3         3.601     0.000      Rejected   \n",
       "4                0              Xt-4        -1.509     0.132  Not rejected   \n",
       "\n",
       "           0.05           0.1  \n",
       "0  Not rejected  Not rejected  \n",
       "1      Rejected      Rejected  \n",
       "2      Rejected      Rejected  \n",
       "3      Rejected      Rejected  \n",
       "4  Not rejected  Not rejected  "
      ]
     },
     "metadata": {},
     "output_type": "display_data"
    },
    {
     "data": {
      "text/html": [
       "<div>\n",
       "<style scoped>\n",
       "    .dataframe tbody tr th:only-of-type {\n",
       "        vertical-align: middle;\n",
       "    }\n",
       "\n",
       "    .dataframe tbody tr th {\n",
       "        vertical-align: top;\n",
       "    }\n",
       "\n",
       "    .dataframe thead th {\n",
       "        text-align: right;\n",
       "    }\n",
       "</style>\n",
       "<table border=\"1\" class=\"dataframe\">\n",
       "  <thead>\n",
       "    <tr style=\"text-align: right;\">\n",
       "      <th></th>\n",
       "      <th>IC Type</th>\n",
       "      <th>Value</th>\n",
       "    </tr>\n",
       "  </thead>\n",
       "  <tbody>\n",
       "    <tr>\n",
       "      <th>0</th>\n",
       "      <td>AIC</td>\n",
       "      <td>0.1055</td>\n",
       "    </tr>\n",
       "    <tr>\n",
       "      <th>1</th>\n",
       "      <td>BIC</td>\n",
       "      <td>0.1824</td>\n",
       "    </tr>\n",
       "    <tr>\n",
       "      <th>2</th>\n",
       "      <td>Hannah-Quinn IC</td>\n",
       "      <td>0.1177</td>\n",
       "    </tr>\n",
       "  </tbody>\n",
       "</table>\n",
       "</div>"
      ],
      "text/plain": [
       "           IC Type   Value\n",
       "0              AIC  0.1055\n",
       "1              BIC  0.1824\n",
       "2  Hannah-Quinn IC  0.1177"
      ]
     },
     "metadata": {},
     "output_type": "display_data"
    }
   ],
   "source": [
    "x_lag4 = x.shift(periods=4).dropna()\n",
    "x_lag1234 = pd.concat([x_lag1[3:], x_lag2[2:], x_lag3[1:], x_lag4], axis=1)\n",
    "ols_AR4 = ols(x[4:], x_lag1234, White=True, intercept=True, var_names=[\"mu\", \"Xt-1\", \"Xt-2\", \"Xt-3\", \"Xt-4\"])\n",
    "IC_AR4 = IC(ols_AR4)\n",
    "df_IC_AR4 = pd.DataFrame(data = IC_AR4.items(), columns=[\"IC Type\", \"Value\"])\n",
    "df_IC_AR4 = df_IC_AR4.round(4)\n",
    "print_ols_results(ols_AR4)\n",
    "b_0 = [0, 0, 0, 0, 0]\n",
    "t_AR4 = t_test(ols_AR4, b_0)\n",
    "print_t_test_results(t_AR4, ols_AR4)\n",
    "display(df_IC_AR4)"
   ]
  },
  {
   "cell_type": "markdown",
   "metadata": {},
   "source": [
    "Given that the values of ACI, BIC and HQIC, AR(3) is the \"best\" AR(p) model because the coefficients of all three lag terms are significant and overall the model has small AIC, BIC and HQIC values."
   ]
  },
  {
   "cell_type": "markdown",
   "metadata": {},
   "source": [
    "We also want to check whether the residuals are stationary in this AR(3) model."
   ]
  },
  {
   "cell_type": "code",
   "execution_count": 36,
   "metadata": {},
   "outputs": [
    {
     "data": {
      "text/plain": [
       "<matplotlib.axes._subplots.AxesSubplot at 0x1be13b71d88>"
      ]
     },
     "execution_count": 36,
     "metadata": {},
     "output_type": "execute_result"
    },
    {
     "data": {
      "image/png": "[encoded data removed]",
      "text/plain": [
       "<Figure size 432x288 with 1 Axes>"
      ]
     },
     "metadata": {
      "needs_background": "light"
     },
     "output_type": "display_data"
    }
   ],
   "source": [
    "x = df[\"DATE\"][3:]\n",
    "y = ols_AR3[\"Residuals\"].flatten()\n",
    "sns.lineplot(x,y)\n"
   ]
  },
  {
   "cell_type": "markdown",
   "metadata": {},
   "source": [
    "Based on the plot of the residuals in the AR(3) model, we can tell that the residuals are stationary. Although the variances varied accross different time periods, we can aply White correction or Newey-West correction to the model for heteroskedasticity."
   ]
  },
  {
   "cell_type": "markdown",
   "metadata": {},
   "source": [
    "##### (d)"
   ]
  },
  {
   "cell_type": "markdown",
   "metadata": {},
   "source": [
    "Based on IC values and the stationary test, I prefered ARIMA(2,1,0) model for the T-bill data. Firstly, the AR(3) model has a better fit. Secondly, the original data ~ I(1), and thus we need to take first difference."
   ]
  }
 ],
 "metadata": {
  "kernelspec": {
   "display_name": "Python 3",
   "language": "python",
   "name": "python3"
  },
  "language_info": {
   "codemirror_mode": {
    "name": "ipython",
    "version": 3
   },
   "file_extension": ".py",
   "mimetype": "text/x-python",
   "name": "python",
   "nbconvert_exporter": "python",
   "pygments_lexer": "ipython3",
   "version": "3.7.7"
  }
 },
 "nbformat": 4,
 "nbformat_minor": 4
}
